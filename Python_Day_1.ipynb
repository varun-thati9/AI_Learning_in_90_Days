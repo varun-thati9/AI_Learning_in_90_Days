{
  "nbformat": 4,
  "nbformat_minor": 0,
  "metadata": {
    "colab": {
      "provenance": [],
      "collapsed_sections": [
        "1BSujFUPmYWQ",
        "ggzhodvwmhtO",
        "N1BpC0Hampv4",
        "RjWzZAH8vY44",
        "pncsYiHH5J5Y",
        "0OTGmCbW57Ln",
        "lt_n6CCtD4AH",
        "pgqiVYyQHKCz",
        "Dtvvi9dgHbWc",
        "0LzqPY3xHf-T"
      ]
    },
    "kernelspec": {
      "name": "python3",
      "display_name": "Python 3"
    },
    "language_info": {
      "name": "python"
    }
  },
  "cells": [
    {
      "cell_type": "markdown",
      "source": [
        "# **Python Refresh – Data Types, Loops, Functions**"
      ],
      "metadata": {
        "id": "1BSujFUPmYWQ"
      }
    },
    {
      "cell_type": "markdown",
      "source": [
        "## **BASIC LEVEL**"
      ],
      "metadata": {
        "id": "ggzhodvwmhtO"
      }
    },
    {
      "cell_type": "markdown",
      "source": [
        "### Data Types"
      ],
      "metadata": {
        "id": "N1BpC0Hampv4"
      }
    },
    {
      "cell_type": "markdown",
      "source": [
        "\n",
        "\n",
        "1.  Create variables of type int, float, string, list, tuple, dict, set, and bool. Print their types using type().\n"
      ],
      "metadata": {
        "id": "zE4iNNzQmvPM"
      }
    },
    {
      "cell_type": "code",
      "execution_count": 1,
      "metadata": {
        "colab": {
          "base_uri": "https://localhost:8080/"
        },
        "id": "1-j_7CdrioeT",
        "outputId": "262edee5-8dff-44b9-ca87-c5d5ae663b72"
      },
      "outputs": [
        {
          "output_type": "stream",
          "name": "stdout",
          "text": [
            "Number of balls in an over :  6 and type of this variable is :  <class 'int'>\n",
            "Current run rate :  10.67 and type of this variable is :  <class 'float'>\n",
            "Player on strike is :  Sachin Tendulkar and type of this variable is :  <class 'str'>\n",
            "Todays's Indian Cricket team is :  ['sachin tendulkar', 'rohit sharma', 'virat kohli', 'gautham gambhir'] and type of this variable is :  <class 'list'>\n",
            "Indian cricket team captain and vice captain are :  ('sachin tendulkar', 'rohit sharma') and type of this variable is :  <class 'tuple'>\n",
            "Indian team members with jersey numbers :  {'sachin tendulkar': 10, 'rohit sharma': 45, 'virat kohli': 18, 'gautham gambhir': 97} and type of this variable is :  <class 'dict'>\n",
            "Total number of unique players in our team are :  {'sachin tendulkar', 'virat kohli', 'rohit sharma', 'gautham gambhir'} and type of this variable is :  <class 'set'>\n",
            "Are we gonna win :  True and type of this variable is :  <class 'bool'>\n",
            "Are we gonna loose :  False and type of this variable is :  <class 'bool'>\n"
          ]
        }
      ],
      "source": [
        "no_of_balls_in_an_over = 6\n",
        "net_runrate = 10.67\n",
        "on_strike_player_name = \"Sachin Tendulkar\"\n",
        "\n",
        "indian_cricket_team = ['sachin tendulkar', 'rohit sharma', 'virat kohli', 'gautham gambhir']\n",
        "team_captain_vice_captain = ('sachin tendulkar','rohit sharma')\n",
        "player_with_jersey_num = {'sachin tendulkar': 10, 'rohit sharma': 45, 'virat kohli': 18, 'gautham gambhir': 97}\n",
        "set_players = {'sachin tendulkar', 'rohit sharma', 'virat kohli', 'gautham gambhir'}\n",
        "\n",
        "boolean_values_1 = True\n",
        "boolean_value_2 = False\n",
        "\n",
        "print(\"Number of balls in an over : \",no_of_balls_in_an_over, \"and type of this variable is : \", type(no_of_balls_in_an_over))\n",
        "print(\"Current run rate : \", net_runrate, \"and type of this variable is : \", type(net_runrate))\n",
        "print(\"Player on strike is : \", on_strike_player_name, \"and type of this variable is : \", type(on_strike_player_name))\n",
        "print(\"Todays's Indian Cricket team is : \",indian_cricket_team, \"and type of this variable is : \", type(indian_cricket_team))\n",
        "print(\"Indian cricket team captain and vice captain are : \",team_captain_vice_captain, \"and type of this variable is : \", type(team_captain_vice_captain))\n",
        "print(\"Indian team members with jersey numbers : \",player_with_jersey_num, \"and type of this variable is : \", type(player_with_jersey_num))\n",
        "print('Total number of unique players in our team are : ', set_players, \"and type of this variable is : \", type(set_players))\n",
        "print(\"Are we gonna win : \",boolean_values_1, \"and type of this variable is : \", type(boolean_values_1))\n",
        "print(\"Are we gonna loose : \",boolean_value_2, \"and type of this variable is : \", type(boolean_value_2))\n"
      ]
    },
    {
      "cell_type": "markdown",
      "source": [
        "2.   Convert the string \"123.45\" into a float and then into an integer.\n",
        "\n"
      ],
      "metadata": {
        "id": "9zGnFVhDr43j"
      }
    },
    {
      "cell_type": "code",
      "source": [
        "ran_var = \"123.45\"\n",
        "fl_ran_var = float(ran_var)\n",
        "int_ran_var = int(fl_ran_var)\n",
        "print(fl_ran_var, type(fl_ran_var))\n",
        "print(int_ran_var, type(int_ran_var))"
      ],
      "metadata": {
        "colab": {
          "base_uri": "https://localhost:8080/"
        },
        "id": "ycaxo8PMr3Gb",
        "outputId": "dfbb9559-c9ac-4b54-cb04-7ff663b4087b"
      },
      "execution_count": 2,
      "outputs": [
        {
          "output_type": "stream",
          "name": "stdout",
          "text": [
            "123.45 <class 'float'>\n",
            "123 <class 'int'>\n"
          ]
        }
      ]
    },
    {
      "cell_type": "markdown",
      "source": [
        "3.   Create a list of 5 numbers and find the maximum, minimum, and sum without using built-in functions like max() or min().\n"
      ],
      "metadata": {
        "id": "azMw3oyHsgLD"
      }
    },
    {
      "cell_type": "code",
      "source": [
        "lis_1 = [24, 45, 11, 99, 57]\n",
        "\n",
        "prev_max = lis_1[0]\n",
        "prev_min = lis_1[0]\n",
        "\n",
        "sum = 0\n",
        "for i in lis_1:\n",
        "  sum += i\n",
        "  if i > prev_max:\n",
        "    prev_max = i\n",
        "  elif i < prev_min:\n",
        "    prev_min = i\n",
        "\n",
        "print(\"Maximum value in the list is : \", prev_max)\n",
        "print(\"Minimum value in the list is : \", prev_min)\n",
        "print(\"Sum of all the values in the list is : \", sum)"
      ],
      "metadata": {
        "colab": {
          "base_uri": "https://localhost:8080/"
        },
        "id": "fS51MlsKscFl",
        "outputId": "785cb759-3bbb-4784-f243-e823770b08b0"
      },
      "execution_count": 3,
      "outputs": [
        {
          "output_type": "stream",
          "name": "stdout",
          "text": [
            "Maximum value in the list is :  99\n",
            "Minimum value in the list is :  11\n",
            "Sum of all the values in the list is :  236\n"
          ]
        }
      ]
    },
    {
      "cell_type": "markdown",
      "source": [
        "### Loops"
      ],
      "metadata": {
        "id": "RjWzZAH8vY44"
      }
    },
    {
      "cell_type": "markdown",
      "source": [
        "1.   Print numbers from 1 to 10 using a for loop.\n",
        "\n"
      ],
      "metadata": {
        "id": "KUSVAYBg1-Z8"
      }
    },
    {
      "cell_type": "code",
      "source": [
        "for i in range(1, 11):\n",
        "  print(i)"
      ],
      "metadata": {
        "colab": {
          "base_uri": "https://localhost:8080/"
        },
        "id": "1ZmN_ruN2K6K",
        "outputId": "489290d0-67c4-412c-e745-2473d944c3d6"
      },
      "execution_count": 4,
      "outputs": [
        {
          "output_type": "stream",
          "name": "stdout",
          "text": [
            "1\n",
            "2\n",
            "3\n",
            "4\n",
            "5\n",
            "6\n",
            "7\n",
            "8\n",
            "9\n",
            "10\n"
          ]
        }
      ]
    },
    {
      "cell_type": "markdown",
      "source": [
        "2.   Print only even numbers between 1 and 20 using a while loop.\n",
        "\n"
      ],
      "metadata": {
        "id": "tbPozDOA2UYy"
      }
    },
    {
      "cell_type": "code",
      "source": [
        "num = 2\n",
        "\n",
        "while num <= 20:\n",
        "  print(num, end=' ')\n",
        "  num += 2"
      ],
      "metadata": {
        "colab": {
          "base_uri": "https://localhost:8080/"
        },
        "id": "_C_G8pUB2QSU",
        "outputId": "c4771b8e-91d7-43b2-c560-b77cb776356b"
      },
      "execution_count": 5,
      "outputs": [
        {
          "output_type": "stream",
          "name": "stdout",
          "text": [
            "2 4 6 8 10 12 14 16 18 20 "
          ]
        }
      ]
    },
    {
      "cell_type": "markdown",
      "source": [
        "3.  Given a string \"python\", print each character in reverse order using a loop.\n",
        "\n"
      ],
      "metadata": {
        "id": "sy0xnvP-26OD"
      }
    },
    {
      "cell_type": "code",
      "source": [
        "str_1 =\"python\"\n",
        "\n",
        "for i in range (len(str_1)-1, -1, -1):\n",
        "  print(str_1[i])\n"
      ],
      "metadata": {
        "colab": {
          "base_uri": "https://localhost:8080/"
        },
        "id": "5ZIzNtnk3EQ6",
        "outputId": "c480f708-d090-4a79-c472-6eb7fff8af10"
      },
      "execution_count": 6,
      "outputs": [
        {
          "output_type": "stream",
          "name": "stdout",
          "text": [
            "n\n",
            "o\n",
            "h\n",
            "t\n",
            "y\n",
            "p\n"
          ]
        }
      ]
    },
    {
      "cell_type": "markdown",
      "source": [
        "### Functions"
      ],
      "metadata": {
        "id": "pncsYiHH5J5Y"
      }
    },
    {
      "cell_type": "markdown",
      "source": [
        "1.   Write a function that takes two numbers and returns their sum.\n",
        "\n",
        "\n"
      ],
      "metadata": {
        "id": "UjrK72Ou6JUo"
      }
    },
    {
      "cell_type": "code",
      "source": [
        "def sum_of_two_num(a, b):\n",
        "    return a + b\n",
        "\n",
        "sum_of_two_num(10, 20)"
      ],
      "metadata": {
        "colab": {
          "base_uri": "https://localhost:8080/"
        },
        "id": "2uvDQ1Oq5W2I",
        "outputId": "aeb0f68a-5f33-49eb-ec93-3ce0ee6c91ac"
      },
      "execution_count": 7,
      "outputs": [
        {
          "output_type": "execute_result",
          "data": {
            "text/plain": [
              "30"
            ]
          },
          "metadata": {},
          "execution_count": 7
        }
      ]
    },
    {
      "cell_type": "markdown",
      "source": [
        "2.   Write a function that checks whether a number is prime or not.\n",
        "\n"
      ],
      "metadata": {
        "id": "sHewnqe46cR_"
      }
    },
    {
      "cell_type": "code",
      "source": [
        "num = 53\n",
        "\n",
        "is_prime = True\n",
        "\n",
        "if num > 1:\n",
        "    for i in range(2, int(num**0.5) + 1):\n",
        "        if num % i == 0:\n",
        "            is_prime = False\n",
        "            break\n",
        "else:\n",
        "    is_prime = False\n",
        "\n",
        "if is_prime:\n",
        "    print(num, \"is a prime number\")\n",
        "else:\n",
        "    print(num, \"is not a prime number\")"
      ],
      "metadata": {
        "colab": {
          "base_uri": "https://localhost:8080/"
        },
        "id": "oHGR9dnL6gvG",
        "outputId": "df89bc52-cd39-4830-b349-fe1ae7971b2d"
      },
      "execution_count": 8,
      "outputs": [
        {
          "output_type": "stream",
          "name": "stdout",
          "text": [
            "53 is a prime number\n"
          ]
        }
      ]
    },
    {
      "cell_type": "markdown",
      "source": [
        "3.   Write a function that accepts a list and returns the length of the list.\n",
        "\n"
      ],
      "metadata": {
        "id": "N9UKJp8kDGmf"
      }
    },
    {
      "cell_type": "code",
      "source": [
        "def list_length(my_list):\n",
        "  return len(my_list)\n",
        "\n",
        "numbers = [10, 20, 30, 40, 50]\n",
        "\n",
        "print(\"Length of list: \", list_length(numbers))"
      ],
      "metadata": {
        "colab": {
          "base_uri": "https://localhost:8080/"
        },
        "id": "dSlMsy6LDN2n",
        "outputId": "2276de6e-457f-4f32-92e7-03124fe66f98"
      },
      "execution_count": 9,
      "outputs": [
        {
          "output_type": "stream",
          "name": "stdout",
          "text": [
            "Length of list:  5\n"
          ]
        }
      ]
    },
    {
      "cell_type": "markdown",
      "source": [
        "## **MID LEVEL**"
      ],
      "metadata": {
        "id": "0OTGmCbW57Ln"
      }
    },
    {
      "cell_type": "markdown",
      "source": [
        "### Data Types"
      ],
      "metadata": {
        "id": "lt_n6CCtD4AH"
      }
    },
    {
      "cell_type": "markdown",
      "source": [
        "1.   Given a list of integers, remove duplicates without using set().\n",
        "\n",
        "\n",
        "\n",
        "\n"
      ],
      "metadata": {
        "id": "d9X4ogxBEKlu"
      }
    },
    {
      "cell_type": "code",
      "source": [
        "lis_3 = [10, 20, 10, 40,20, 40, 20]\n",
        "lis_4 = []\n",
        "for i in lis_3:\n",
        "  if i not in lis_4:\n",
        "    lis_4.append(i)\n",
        "\n",
        "print(lis_4)"
      ],
      "metadata": {
        "colab": {
          "base_uri": "https://localhost:8080/"
        },
        "id": "ZcA0rdWBEO3X",
        "outputId": "09c41ed6-e4ca-43d2-91ab-976b288c5ebf"
      },
      "execution_count": 10,
      "outputs": [
        {
          "output_type": "stream",
          "name": "stdout",
          "text": [
            "[10, 20, 40]\n"
          ]
        }
      ]
    },
    {
      "cell_type": "code",
      "source": [
        "def remove_duplicates(lst):\n",
        "    unique_list = []\n",
        "    for item in lst:\n",
        "        if item not in unique_list:\n",
        "            unique_list.append(item)\n",
        "    return unique_list\n",
        "\n",
        "\n",
        "# Example usage:\n",
        "lis_3 = [10, 20, 10, 40, 20, 40, 20]\n",
        "result = remove_duplicates(lis_3)\n",
        "print(result)"
      ],
      "metadata": {
        "colab": {
          "base_uri": "https://localhost:8080/"
        },
        "id": "NN1Db1AGGMvF",
        "outputId": "e14f8cb6-57d8-41c0-adf9-96264b96a024"
      },
      "execution_count": 11,
      "outputs": [
        {
          "output_type": "stream",
          "name": "stdout",
          "text": [
            "[10, 20, 40]\n"
          ]
        }
      ]
    },
    {
      "cell_type": "markdown",
      "source": [
        "2.   Merge two dictionaries { 'a': 1, 'b': 2 } and { 'b': 3, 'c': 4 } so that if a key exists in both, the values are summed.\n",
        "\n"
      ],
      "metadata": {
        "id": "0w7qcECGGneD"
      }
    },
    {
      "cell_type": "code",
      "source": [
        "dict_1 = {'a': 1, 'b': 2}\n",
        "dict_2 = {'b': 3, 'c': 9}\n",
        "\n",
        "merged_dict = dict_1.copy()\n",
        "\n",
        "for key, value in dict_2.items():\n",
        "  if key in merged_dict:\n",
        "    merged_dict[key] += value\n",
        "  else:\n",
        "    merged_dict[key] = value\n",
        "\n",
        "print(merged_dict)"
      ],
      "metadata": {
        "colab": {
          "base_uri": "https://localhost:8080/"
        },
        "id": "HaZyGQ4vGsS8",
        "outputId": "f1abfaf4-037d-4179-8e13-40a5e3624394"
      },
      "execution_count": 12,
      "outputs": [
        {
          "output_type": "stream",
          "name": "stdout",
          "text": [
            "{'a': 1, 'b': 5, 'c': 9}\n"
          ]
        }
      ]
    },
    {
      "cell_type": "markdown",
      "source": [
        "3.   Create a dictionary that counts the frequency of each character in a given string.\n",
        "\n"
      ],
      "metadata": {
        "id": "PrjDF-_RMzpU"
      }
    },
    {
      "cell_type": "code",
      "source": [
        "text = \"varun thati\"\n",
        "\n",
        "char_freq = {}\n",
        "\n",
        "for char in text:\n",
        "    if char in char_freq:\n",
        "        char_freq[char] += 1\n",
        "    else:\n",
        "        char_freq[char] = 1\n",
        "\n",
        "print(char_freq)\n"
      ],
      "metadata": {
        "colab": {
          "base_uri": "https://localhost:8080/"
        },
        "id": "Uc4G0MurM4KO",
        "outputId": "e5d1e536-ab46-4e65-ff62-807baf4ed7df"
      },
      "execution_count": 13,
      "outputs": [
        {
          "output_type": "stream",
          "name": "stdout",
          "text": [
            "{'v': 1, 'a': 2, 'r': 1, 'u': 1, 'n': 1, ' ': 1, 't': 2, 'h': 1, 'i': 1}\n"
          ]
        }
      ]
    },
    {
      "cell_type": "markdown",
      "source": [
        "### Loops"
      ],
      "metadata": {
        "id": "oZChjeaJD_ce"
      }
    },
    {
      "cell_type": "markdown",
      "source": [
        "1. Print the multiplication table of a given number up to 10.\n",
        "\n"
      ],
      "metadata": {
        "id": "-2Nn0wAaj3eH"
      }
    },
    {
      "cell_type": "code",
      "source": [
        "n = int(input(\"Enter the number you want to get the multiplication table for : \"))\n",
        "\n",
        "for i in range(1, 11):\n",
        "  print(n, 'x', i, '=', n*i)"
      ],
      "metadata": {
        "colab": {
          "base_uri": "https://localhost:8080/"
        },
        "id": "jUhUQPxFkEeO",
        "outputId": "cc67cda1-1ddb-41c0-f859-6b9664a83281"
      },
      "execution_count": 14,
      "outputs": [
        {
          "output_type": "stream",
          "name": "stdout",
          "text": [
            "Enter the number you want to get the multiplication table for : 9\n",
            "9 x 1 = 9\n",
            "9 x 2 = 18\n",
            "9 x 3 = 27\n",
            "9 x 4 = 36\n",
            "9 x 5 = 45\n",
            "9 x 6 = 54\n",
            "9 x 7 = 63\n",
            "9 x 8 = 72\n",
            "9 x 9 = 81\n",
            "9 x 10 = 90\n"
          ]
        }
      ]
    },
    {
      "cell_type": "markdown",
      "source": [
        "2.  Find the factorial of a number using both for and while loops.\n",
        "\n"
      ],
      "metadata": {
        "id": "JqXAgW4LmQtc"
      }
    },
    {
      "cell_type": "code",
      "source": [
        "n = int(input(\"Enter the number you want to find out the factorial for: \"))\n",
        "prod = 1\n",
        "for i in range(1, n+1):\n",
        "  prod *= i\n",
        "\n",
        "print(prod)"
      ],
      "metadata": {
        "colab": {
          "base_uri": "https://localhost:8080/"
        },
        "id": "2wY_8m7_mS0k",
        "outputId": "16d44c44-9ce4-417a-ce4a-590ec9b4753e"
      },
      "execution_count": 15,
      "outputs": [
        {
          "output_type": "stream",
          "name": "stdout",
          "text": [
            "Enter the number you want to find out the factorial for: 5\n",
            "120\n"
          ]
        }
      ]
    },
    {
      "cell_type": "code",
      "source": [
        "n = int(input(\"Enter the number you want to find out the factorial for: \"))\n",
        "\n",
        "prod = 1\n",
        "cnt = 1\n",
        "while cnt <= n:\n",
        "  prod *= cnt\n",
        "  cnt += 1\n",
        "print(prod)"
      ],
      "metadata": {
        "colab": {
          "base_uri": "https://localhost:8080/"
        },
        "id": "R_kw6TPCpzOj",
        "outputId": "d5de69c6-c094-4095-9902-f3d038784196"
      },
      "execution_count": 16,
      "outputs": [
        {
          "output_type": "stream",
          "name": "stdout",
          "text": [
            "Enter the number you want to find out the factorial for: 6\n",
            "720\n"
          ]
        }
      ]
    },
    {
      "cell_type": "markdown",
      "source": [
        "\n",
        "\n",
        "3. Given a list of numbers, use a loop to separate them into two lists: one containing even numbers and the other containing odd numbers.\n",
        "\n"
      ],
      "metadata": {
        "id": "ZAEpY5q6riZw"
      }
    },
    {
      "cell_type": "code",
      "source": [
        "main_list = [10, 11, 20, 21, 30, 31, 40, 41, 50, 51, 60, 61, 70, 71, 80, 81, 90, 91, 100, 101, 110, 111, 120, 121, 130, 131, 140, 141]\n",
        "even_list = []\n",
        "odd_list = []\n",
        "\n",
        "for i in main_list:\n",
        "  if i % 2 == 0:\n",
        "    even_list.append(i)\n",
        "  else:\n",
        "    odd_list.append(i)\n",
        "\n",
        "print(\"Even numbers list : \", even_list)\n",
        "print(\"Odd numbers list : \", odd_list)"
      ],
      "metadata": {
        "colab": {
          "base_uri": "https://localhost:8080/"
        },
        "id": "T4469zXRrmpI",
        "outputId": "11a7b3c7-5aff-45b1-87f1-cc81e3db1462"
      },
      "execution_count": 17,
      "outputs": [
        {
          "output_type": "stream",
          "name": "stdout",
          "text": [
            "Even numbers list :  [10, 20, 30, 40, 50, 60, 70, 80, 90, 100, 110, 120, 130, 140]\n",
            "Odd numbers list :  [11, 21, 31, 41, 51, 61, 71, 81, 91, 101, 111, 121, 131, 141]\n"
          ]
        }
      ]
    },
    {
      "cell_type": "markdown",
      "source": [
        "### Functions"
      ],
      "metadata": {
        "id": "L-ipgrf1EChn"
      }
    },
    {
      "cell_type": "markdown",
      "source": [
        "\n",
        "\n",
        "1.   Write a function that accepts a string and returns it with vowels removed.\n",
        "\n"
      ],
      "metadata": {
        "id": "fJbK9nLTuIeX"
      }
    },
    {
      "cell_type": "code",
      "source": [
        "def name_without_vowels(str_1):\n",
        "    vowels = ['a', 'e', 'i', 'o', 'u']\n",
        "    list_str_1 = []\n",
        "    final_list = []\n",
        "    final_str = ''\n",
        "    for i in str_1:\n",
        "        list_str_1.append(i)\n",
        "    for i in list_str_1:\n",
        "        if i not in vowels:\n",
        "            final_list.append(i)\n",
        "    for i in final_list:\n",
        "        final_str += i\n",
        "    return final_str\n",
        "\n",
        "str_1 = input(\"Enter some thing where you want to remove vowels: \")\n",
        "name_without_vowels(str_1)"
      ],
      "metadata": {
        "colab": {
          "base_uri": "https://localhost:8080/",
          "height": 53
        },
        "id": "FBPPQMI9uK2R",
        "outputId": "b92b23e9-a27f-4baf-9362-15b02db39303"
      },
      "execution_count": 18,
      "outputs": [
        {
          "name": "stdout",
          "output_type": "stream",
          "text": [
            "Enter some thing where you want to remove vowels: Varun Thati\n"
          ]
        },
        {
          "output_type": "execute_result",
          "data": {
            "text/plain": [
              "'Vrn Tht'"
            ],
            "application/vnd.google.colaboratory.intrinsic+json": {
              "type": "string"
            }
          },
          "metadata": {},
          "execution_count": 18
        }
      ]
    },
    {
      "cell_type": "markdown",
      "source": [
        "2.   Write a function that finds the second-largest number in a list without using sorted().\n",
        "\n"
      ],
      "metadata": {
        "id": "0Gs1_7Js46de"
      }
    },
    {
      "cell_type": "code",
      "source": [
        "lis_1 = [10, 11, 21, 6, 7, 20]\n",
        "\n",
        "largest = max(lis_1)\n",
        "lis_1.remove(largest)\n",
        "second_largest = max(lis_1)\n",
        "\n",
        "print(\"Second largest number in the list is : \", second_largest)"
      ],
      "metadata": {
        "colab": {
          "base_uri": "https://localhost:8080/"
        },
        "id": "vViijPJF45t2",
        "outputId": "826be710-8e4a-43f4-bebb-65137280e85f"
      },
      "execution_count": 19,
      "outputs": [
        {
          "output_type": "stream",
          "name": "stdout",
          "text": [
            "Second largest number in the list is :  20\n"
          ]
        }
      ]
    },
    {
      "cell_type": "code",
      "source": [
        "def second_largest(nums):\n",
        "    largest = max(nums)\n",
        "    nums.remove(largest)\n",
        "    return max(nums)\n",
        "\n",
        "# Example\n",
        "numbers = [10, 20, 4, 45, 99]\n",
        "print(\"Second largest:\", second_largest(numbers))"
      ],
      "metadata": {
        "colab": {
          "base_uri": "https://localhost:8080/"
        },
        "id": "rlyg7sJk7vri",
        "outputId": "3cd6919e-fcf9-470c-d6dc-67ce74417a37"
      },
      "execution_count": 20,
      "outputs": [
        {
          "output_type": "stream",
          "name": "stdout",
          "text": [
            "Second largest: 45\n"
          ]
        }
      ]
    },
    {
      "cell_type": "markdown",
      "source": [
        "3.   Write a function that takes any number of arguments and returns their average.\n",
        "\n"
      ],
      "metadata": {
        "id": "xYkH_jo58vKG"
      }
    },
    {
      "cell_type": "code",
      "source": [
        "del sum\n",
        "\n",
        "def avg_function(*args):\n",
        "     return sum(args) / len(args)\n",
        "\n",
        "print(avg_function(10, 45, 66, 78, 100))"
      ],
      "metadata": {
        "colab": {
          "base_uri": "https://localhost:8080/"
        },
        "id": "nFxfmYec83gW",
        "outputId": "8009f68b-f481-4e38-c6f9-afd60aa64eb9"
      },
      "execution_count": 21,
      "outputs": [
        {
          "output_type": "stream",
          "name": "stdout",
          "text": [
            "59.8\n"
          ]
        }
      ]
    },
    {
      "cell_type": "markdown",
      "source": [
        "## **ADVANCED LEVEL**\n"
      ],
      "metadata": {
        "id": "pgqiVYyQHKCz"
      }
    },
    {
      "cell_type": "markdown",
      "source": [
        "### Data Types"
      ],
      "metadata": {
        "id": "LAFgh6NcHWU8"
      }
    },
    {
      "cell_type": "markdown",
      "source": [
        "\n",
        "\n",
        "1.   Implement a nested dictionary representing a small student database:\n",
        "\n",
        "\n",
        "\n",
        "```\n",
        "{\n",
        "  \"Aniketh\": {\"Math\": 85, \"Science\": 90},\n",
        "  \"Bharat\": {\"Math\": 78, \"Science\": 88}\n",
        "}\n",
        "\n",
        "```\n",
        "\n",
        "Write a program to:\n",
        "\n",
        "Add a new subject score to all students.\n",
        "\n",
        "Update a score for a specific student.\n",
        "\n",
        "Find the student with the highest total score.\n",
        "\n",
        "Given a mixed list like [1, '2', 3.0, 'four', 5], create a new list containing only the integer values (convert strings if possible).\n",
        "\n",
        "\n",
        "\n"
      ],
      "metadata": {
        "id": "Gas2qQeFmen1"
      }
    },
    {
      "cell_type": "code",
      "source": [
        "students = {\n",
        "  \"Aniketh\": {\"Math\": 85, \"Science\": 90},\n",
        "  \"Bharat\": {\"Math\": 78, \"Science\": 88}\n",
        "}\n",
        "\n",
        "# 1. Add a new subject score to all students\n",
        "\n",
        "for i in students:\n",
        "  students[i]['English'] = 95\n",
        "print(\"1st output\")\n",
        "print(students)\n",
        "print(\"*\"*50)\n",
        "\n",
        "# 2. Update a score for a specific student\n",
        "\n",
        "students['Aniketh']['Math'] = 99\n",
        "print(\"2nd output\")\n",
        "print(students)\n",
        "print(\"*\"*50)\n",
        "\n",
        "# 3. Find the student with the highest total score\n",
        "\n",
        "highest_score = 0\n",
        "highest_score_student = None\n",
        "\n",
        "for student, subjects in students.items():\n",
        "  total_score = sum(subjects.values())\n",
        "  if total_score > highest_score:\n",
        "    highest_score = total_score\n",
        "    highest_score_student = student\n",
        "\n",
        "print(\"3rd output\")\n",
        "print(\"Updated student database: \", students)\n",
        "print(\"Student with highest total score: \", highest_score_student)"
      ],
      "metadata": {
        "colab": {
          "base_uri": "https://localhost:8080/"
        },
        "id": "3mDrppTwmvr6",
        "outputId": "aeb74e6f-f573-4e33-fc60-722cf9d0696b"
      },
      "execution_count": 22,
      "outputs": [
        {
          "output_type": "stream",
          "name": "stdout",
          "text": [
            "1st output\n",
            "{'Aniketh': {'Math': 85, 'Science': 90, 'English': 95}, 'Bharat': {'Math': 78, 'Science': 88, 'English': 95}}\n",
            "**************************************************\n",
            "2nd output\n",
            "{'Aniketh': {'Math': 99, 'Science': 90, 'English': 95}, 'Bharat': {'Math': 78, 'Science': 88, 'English': 95}}\n",
            "**************************************************\n",
            "3rd output\n",
            "Updated student database:  {'Aniketh': {'Math': 99, 'Science': 90, 'English': 95}, 'Bharat': {'Math': 78, 'Science': 88, 'English': 95}}\n",
            "Student with highest total score:  Aniketh\n"
          ]
        }
      ]
    },
    {
      "cell_type": "markdown",
      "source": [
        "2.   Given a mixed list like [1, '2', 3.0, 'four', 5], create a new list containing only the integer values (convert strings if possible).\n",
        "\n"
      ],
      "metadata": {
        "id": "EhfsdO_R2PZm"
      }
    },
    {
      "cell_type": "code",
      "source": [
        "lis_1 = [1, '2', 3.0, 'four', 5]\n",
        "\n",
        "int_list = [int(i) for i in lis_1 if isinstance(i, int) or (isinstance(i, str) and i.isdigit())]\n",
        "\n",
        "print(int_list)"
      ],
      "metadata": {
        "colab": {
          "base_uri": "https://localhost:8080/"
        },
        "id": "j_7h-t522TiG",
        "outputId": "1e77a439-4d55-432e-cce4-06de3ee13d21"
      },
      "execution_count": 23,
      "outputs": [
        {
          "output_type": "stream",
          "name": "stdout",
          "text": [
            "[1, 2, 5]\n"
          ]
        }
      ]
    },
    {
      "cell_type": "markdown",
      "source": [
        "### Loops"
      ],
      "metadata": {
        "id": "Dtvvi9dgHbWc"
      }
    },
    {
      "cell_type": "markdown",
      "source": [
        "1.   Write a program to generate the first n numbers of the Fibonacci sequence using loops."
      ],
      "metadata": {
        "id": "uUSHGnvLH19M"
      }
    },
    {
      "cell_type": "code",
      "source": [
        "# num = 10\n",
        "# prev_num = 0\n",
        "# curr_num = 1\n",
        "\n",
        "fib_no = int(input(\"Enter the number of terms: \"))\n",
        "list_2 = [0, 1]\n",
        "for i in range (fib_no-2):\n",
        "    v1 = list_2[-1]\n",
        "    v2 = list_2[-2]\n",
        "    v3 = v1 + v2\n",
        "    list_2.append(v3)\n",
        "\n",
        "print(list_2)"
      ],
      "metadata": {
        "colab": {
          "base_uri": "https://localhost:8080/"
        },
        "id": "Zhqe6RRnH6h7",
        "outputId": "7ba8bb0c-c9e1-477f-c49c-f72b2f5c5152"
      },
      "execution_count": 24,
      "outputs": [
        {
          "output_type": "stream",
          "name": "stdout",
          "text": [
            "Enter the number of terms: 9\n",
            "[0, 1, 1, 2, 3, 5, 8, 13, 21]\n"
          ]
        }
      ]
    },
    {
      "cell_type": "code",
      "source": [
        "n = int(input(\"Enter the number of terms: \"))\n",
        "\n",
        "a, b = 0, 1\n",
        "\n",
        "print(\"Fibonacci sequence: \")\n",
        "\n",
        "for i in range(n):\n",
        "  print(a, end=' ')\n",
        "  a, b = b, a + b"
      ],
      "metadata": {
        "colab": {
          "base_uri": "https://localhost:8080/"
        },
        "id": "YXTXnt6qH_Ab",
        "outputId": "c102d565-c95f-4d39-eb97-2021f3ba9090"
      },
      "execution_count": 25,
      "outputs": [
        {
          "output_type": "stream",
          "name": "stdout",
          "text": [
            "Enter the number of terms: 9\n",
            "Fibonacci sequence: \n",
            "0 1 1 2 3 5 8 13 21 "
          ]
        }
      ]
    },
    {
      "cell_type": "markdown",
      "source": [
        "2.   Implement a program that prints a right-angled triangle pattern made of * with a height given by the user.\n",
        "\n"
      ],
      "metadata": {
        "id": "cEXpEFXfmWx9"
      }
    },
    {
      "cell_type": "code",
      "source": [
        "for i in range(1, 6):\n",
        "  print(i*'*')"
      ],
      "metadata": {
        "colab": {
          "base_uri": "https://localhost:8080/"
        },
        "id": "kX7dzENaBGMn",
        "outputId": "7e3687c2-8cf5-42d9-e592-aadf95f730a8"
      },
      "execution_count": 26,
      "outputs": [
        {
          "output_type": "stream",
          "name": "stdout",
          "text": [
            "*\n",
            "**\n",
            "***\n",
            "****\n",
            "*****\n"
          ]
        }
      ]
    },
    {
      "cell_type": "markdown",
      "source": [
        "3. Using nested loops, print a multiplication table from 1 to 10 in a grid format.\n",
        "\n"
      ],
      "metadata": {
        "id": "B7iH8x_hhwXr"
      }
    },
    {
      "cell_type": "code",
      "source": [
        "for i in range(1, 11):\n",
        "  for j in range(1, 11):\n",
        "      print(i*j, end=' ')\n",
        "  print()"
      ],
      "metadata": {
        "colab": {
          "base_uri": "https://localhost:8080/"
        },
        "id": "cN9ElBD0noKi",
        "outputId": "f09accae-daaa-44df-fd2a-5b7ac54570c7"
      },
      "execution_count": 27,
      "outputs": [
        {
          "output_type": "stream",
          "name": "stdout",
          "text": [
            "1 2 3 4 5 6 7 8 9 10 \n",
            "2 4 6 8 10 12 14 16 18 20 \n",
            "3 6 9 12 15 18 21 24 27 30 \n",
            "4 8 12 16 20 24 28 32 36 40 \n",
            "5 10 15 20 25 30 35 40 45 50 \n",
            "6 12 18 24 30 36 42 48 54 60 \n",
            "7 14 21 28 35 42 49 56 63 70 \n",
            "8 16 24 32 40 48 56 64 72 80 \n",
            "9 18 27 36 45 54 63 72 81 90 \n",
            "10 20 30 40 50 60 70 80 90 100 \n"
          ]
        }
      ]
    },
    {
      "cell_type": "code",
      "source": [
        "for i in range(1, 11):\n",
        "  for j in range(1, 11):\n",
        "      print(i*j, end=' ')\n",
        "  print('\\n')"
      ],
      "metadata": {
        "colab": {
          "base_uri": "https://localhost:8080/"
        },
        "id": "HtT8CBs-nsBg",
        "outputId": "debcbc63-d6d0-40b0-c4af-23cfdeb7deb0"
      },
      "execution_count": 28,
      "outputs": [
        {
          "output_type": "stream",
          "name": "stdout",
          "text": [
            "1 2 3 4 5 6 7 8 9 10 \n",
            "\n",
            "2 4 6 8 10 12 14 16 18 20 \n",
            "\n",
            "3 6 9 12 15 18 21 24 27 30 \n",
            "\n",
            "4 8 12 16 20 24 28 32 36 40 \n",
            "\n",
            "5 10 15 20 25 30 35 40 45 50 \n",
            "\n",
            "6 12 18 24 30 36 42 48 54 60 \n",
            "\n",
            "7 14 21 28 35 42 49 56 63 70 \n",
            "\n",
            "8 16 24 32 40 48 56 64 72 80 \n",
            "\n",
            "9 18 27 36 45 54 63 72 81 90 \n",
            "\n",
            "10 20 30 40 50 60 70 80 90 100 \n",
            "\n"
          ]
        }
      ]
    },
    {
      "cell_type": "code",
      "source": [
        "for i in range(1, 11):\n",
        "  for j in range(1, 11):\n",
        "      print(f\"{i*j:4}\", end=' ')\n",
        "  print()"
      ],
      "metadata": {
        "colab": {
          "base_uri": "https://localhost:8080/"
        },
        "id": "cFmyPux_hzFm",
        "outputId": "296a6953-ea0b-499d-ee36-775e94eef905"
      },
      "execution_count": 29,
      "outputs": [
        {
          "output_type": "stream",
          "name": "stdout",
          "text": [
            "   1    2    3    4    5    6    7    8    9   10 \n",
            "   2    4    6    8   10   12   14   16   18   20 \n",
            "   3    6    9   12   15   18   21   24   27   30 \n",
            "   4    8   12   16   20   24   28   32   36   40 \n",
            "   5   10   15   20   25   30   35   40   45   50 \n",
            "   6   12   18   24   30   36   42   48   54   60 \n",
            "   7   14   21   28   35   42   49   56   63   70 \n",
            "   8   16   24   32   40   48   56   64   72   80 \n",
            "   9   18   27   36   45   54   63   72   81   90 \n",
            "  10   20   30   40   50   60   70   80   90  100 \n"
          ]
        }
      ]
    },
    {
      "cell_type": "markdown",
      "source": [
        "### Functions"
      ],
      "metadata": {
        "id": "0LzqPY3xHf-T"
      }
    },
    {
      "cell_type": "markdown",
      "source": [
        "\n",
        "\n",
        "1.   Write a recursive function to calculate the sum of digits of a number.\n",
        "\n",
        "\n"
      ],
      "metadata": {
        "id": "E8DISiyOn0OC"
      }
    },
    {
      "cell_type": "code",
      "source": [
        "def rec_addition(n):\n",
        "    if n == 0:\n",
        "        return 0\n",
        "    return (n % 10) + rec_addition(n // 10)\n",
        "\n",
        "result = rec_addition(123456)\n",
        "print(result)"
      ],
      "metadata": {
        "colab": {
          "base_uri": "https://localhost:8080/"
        },
        "id": "2-AzAlIxqthr",
        "outputId": "780f3926-19f5-4fe9-9357-4d6a8d055f6d"
      },
      "execution_count": 30,
      "outputs": [
        {
          "output_type": "stream",
          "name": "stdout",
          "text": [
            "21\n"
          ]
        }
      ]
    },
    {
      "cell_type": "code",
      "source": [
        "def rec_addition(a):\n",
        "  s = 0\n",
        "  b = str(a)\n",
        "  for i in b:\n",
        "    con = int(i)\n",
        "    s += con\n",
        "  return s\n",
        "\n",
        "rec_addition(123456)"
      ],
      "metadata": {
        "colab": {
          "base_uri": "https://localhost:8080/"
        },
        "id": "jLKTLI2IHjja",
        "outputId": "b7f8fd9e-e4c8-4c11-fd27-2e42b1afc3b5"
      },
      "execution_count": 31,
      "outputs": [
        {
          "output_type": "execute_result",
          "data": {
            "text/plain": [
              "21"
            ]
          },
          "metadata": {},
          "execution_count": 31
        }
      ]
    },
    {
      "cell_type": "markdown",
      "source": [
        "2. Write a function that returns a list of prime numbers within a given range using the Sieve of Eratosthenes method.\n",
        "\n"
      ],
      "metadata": {
        "id": "AwsMgmbuvOA-"
      }
    },
    {
      "cell_type": "code",
      "source": [
        "def sieve_of_eratosthenes(limit):\n",
        "    # Step 1: Assume all numbers are prime initially\n",
        "    primes = [True] * (limit + 1)\n",
        "    primes[0], primes[1] = False, False  # 0 and 1 are not prime\n",
        "\n",
        "    p = 2\n",
        "    while p * p <= limit:\n",
        "        if primes[p]:  # If prime, mark multiples as False\n",
        "            for multiple in range(p * p, limit + 1, p):\n",
        "                primes[multiple] = False\n",
        "        p += 1\n",
        "\n",
        "    # Step 2: Collect all numbers still marked as prime\n",
        "    return [num for num, is_prime in enumerate(primes) if is_prime]\n",
        "\n",
        "# Example usage\n",
        "print(sieve_of_eratosthenes(30))"
      ],
      "metadata": {
        "colab": {
          "base_uri": "https://localhost:8080/"
        },
        "id": "SnJk616-rqbk",
        "outputId": "f2947638-9fac-4966-dd8b-94d84100654d"
      },
      "execution_count": 32,
      "outputs": [
        {
          "output_type": "stream",
          "name": "stdout",
          "text": [
            "[2, 3, 5, 7, 11, 13, 17, 19, 23, 29]\n"
          ]
        }
      ]
    },
    {
      "cell_type": "markdown",
      "source": [
        "3.  Write a higher-order function that takes another function and a list as arguments, and applies the function to all elements of the list.\n",
        "\n"
      ],
      "metadata": {
        "id": "niRUZUN91MRZ"
      }
    },
    {
      "cell_type": "code",
      "source": [
        "def apply_function(func, data_list):\n",
        "    return [func(item) for item in data_list]\n",
        "\n",
        "# Example usage:\n",
        "def square(x):\n",
        "    return x * x\n",
        "\n",
        "numbers = [1, 2, 3, 4, 5]\n",
        "result = apply_function(square, numbers)\n",
        "print(result)\n"
      ],
      "metadata": {
        "colab": {
          "base_uri": "https://localhost:8080/"
        },
        "id": "3ISd5MeM1O7H",
        "outputId": "cd23d96c-decb-42bd-e7af-ae1ceb53565e"
      },
      "execution_count": 33,
      "outputs": [
        {
          "output_type": "stream",
          "name": "stdout",
          "text": [
            "[1, 4, 9, 16, 25]\n"
          ]
        }
      ]
    }
  ]
}
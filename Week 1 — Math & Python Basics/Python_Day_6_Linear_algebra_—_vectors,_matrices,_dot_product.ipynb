{
  "nbformat": 4,
  "nbformat_minor": 0,
  "metadata": {
    "colab": {
      "provenance": []
    },
    "kernelspec": {
      "name": "python3",
      "display_name": "Python 3"
    },
    "language_info": {
      "name": "python"
    }
  },
  "cells": [
    {
      "cell_type": "markdown",
      "source": [
        "# **Day 6 – Linear Algebra: Vectors, Matrices, Dot Product**"
      ],
      "metadata": {
        "id": "5ArnRNUqYoQk"
      }
    },
    {
      "cell_type": "markdown",
      "source": [
        "## Beginner Level"
      ],
      "metadata": {
        "id": "RJyOo3Q2YsEK"
      }
    },
    {
      "cell_type": "markdown",
      "source": [
        "\n",
        "\n",
        "1. Create a vector using NumPy: v = [2, 4, 6]. Print its shape and dimension.\n",
        "\n"
      ],
      "metadata": {
        "id": "NtMC8yCQYuqK"
      }
    },
    {
      "cell_type": "code",
      "execution_count": 1,
      "metadata": {
        "colab": {
          "base_uri": "https://localhost:8080/"
        },
        "id": "ZIUpaq-nYlDu",
        "outputId": "4bed94fd-33f9-4cf8-ae7d-a5833a469b53"
      },
      "outputs": [
        {
          "output_type": "stream",
          "name": "stdout",
          "text": [
            "[2 4 6]\n",
            "(3,)\n",
            "1\n"
          ]
        }
      ],
      "source": [
        "import numpy as np\n",
        "\n",
        "v = np.array([2, 4, 6])\n",
        "\n",
        "print(v)\n",
        "print(v.shape)\n",
        "print(v.ndim)"
      ]
    },
    {
      "cell_type": "code",
      "source": [
        "# Create vector\n",
        "v = np.array([2, 4, 6])\n",
        "\n",
        "# Print vector\n",
        "print(\"Vector:\", v)\n",
        "\n",
        "# Shape (rows, cols) → here just (3,)\n",
        "print(\"Shape:\", v.shape)\n",
        "\n",
        "# Dimension → 1D array\n",
        "print(\"Dimension:\", v.ndim)"
      ],
      "metadata": {
        "colab": {
          "base_uri": "https://localhost:8080/"
        },
        "id": "5xvxXwPTZU1d",
        "outputId": "87c4f039-2b69-47d2-ed63-7975de36da90"
      },
      "execution_count": 2,
      "outputs": [
        {
          "output_type": "stream",
          "name": "stdout",
          "text": [
            "Vector: [2 4 6]\n",
            "Shape: (3,)\n",
            "Dimension: 1\n"
          ]
        }
      ]
    },
    {
      "cell_type": "markdown",
      "source": [
        "2. Create a 3x3 identity matrix using NumPy.\n",
        "\n"
      ],
      "metadata": {
        "id": "ZelC1dnoZjWF"
      }
    },
    {
      "cell_type": "code",
      "source": [
        "arr1 = np.identity(3)\n",
        "print(arr1)"
      ],
      "metadata": {
        "colab": {
          "base_uri": "https://localhost:8080/"
        },
        "id": "X7pDPGJsZoUl",
        "outputId": "7c31e4c0-abb7-4a5b-dabb-298ac25f68b4"
      },
      "execution_count": 3,
      "outputs": [
        {
          "output_type": "stream",
          "name": "stdout",
          "text": [
            "[[1. 0. 0.]\n",
            " [0. 1. 0.]\n",
            " [0. 0. 1.]]\n"
          ]
        }
      ]
    },
    {
      "cell_type": "code",
      "source": [
        "I = np.eye(3)\n",
        "\n",
        "print(I)"
      ],
      "metadata": {
        "colab": {
          "base_uri": "https://localhost:8080/"
        },
        "id": "9IvVdLvsaQui",
        "outputId": "fa734e56-4011-49eb-a376-09bcedd972ab"
      },
      "execution_count": 4,
      "outputs": [
        {
          "output_type": "stream",
          "name": "stdout",
          "text": [
            "[[1. 0. 0.]\n",
            " [0. 1. 0.]\n",
            " [0. 0. 1.]]\n"
          ]
        }
      ]
    },
    {
      "cell_type": "markdown",
      "source": [
        "3. Create two matrices and perform addition and subtraction.\n",
        "\n",
        "\n",
        "\n",
        "*   A = [[1,2],[3,4]]\n",
        "*   B = [[5,6],[7,8]]\n",
        "\n",
        "\n",
        "\n",
        "\n",
        "\n"
      ],
      "metadata": {
        "id": "IhYNaWkZac_W"
      }
    },
    {
      "cell_type": "code",
      "source": [
        "A = np.array([[1,2],[3,4]])\n",
        "B = np.array([[5,6],[7,8]])\n",
        "\n",
        "print(A + B)\n",
        "print('*' * 20)\n",
        "print(A - B)"
      ],
      "metadata": {
        "colab": {
          "base_uri": "https://localhost:8080/"
        },
        "id": "1bbrD1Xnaa5-",
        "outputId": "87ccdccc-0f36-44b6-a17a-d5c6ae19a880"
      },
      "execution_count": 5,
      "outputs": [
        {
          "output_type": "stream",
          "name": "stdout",
          "text": [
            "[[ 6  8]\n",
            " [10 12]]\n",
            "********************\n",
            "[[-4 -4]\n",
            " [-4 -4]]\n"
          ]
        }
      ]
    },
    {
      "cell_type": "code",
      "source": [
        "# Define matrices\n",
        "A = np.array([[1, 2], [3, 4]])\n",
        "B = np.array([[5, 6], [7, 8]])\n",
        "\n",
        "# Addition\n",
        "add_result = A + B\n",
        "\n",
        "# Subtraction\n",
        "sub_result = A - B\n",
        "\n",
        "print(\"Matrix A:\\n\", A)\n",
        "print(\"Matrix B:\\n\", B)\n",
        "print(\"\\nA + B =\\n\", add_result)\n",
        "print(\"\\nA - B =\\n\", sub_result)"
      ],
      "metadata": {
        "colab": {
          "base_uri": "https://localhost:8080/"
        },
        "id": "xYVYGbfca2mz",
        "outputId": "6e8d054b-8b88-46e2-cb92-0a0a44c5d39e"
      },
      "execution_count": 6,
      "outputs": [
        {
          "output_type": "stream",
          "name": "stdout",
          "text": [
            "Matrix A:\n",
            " [[1 2]\n",
            " [3 4]]\n",
            "Matrix B:\n",
            " [[5 6]\n",
            " [7 8]]\n",
            "\n",
            "A + B =\n",
            " [[ 6  8]\n",
            " [10 12]]\n",
            "\n",
            "A - B =\n",
            " [[-4 -4]\n",
            " [-4 -4]]\n"
          ]
        }
      ]
    },
    {
      "cell_type": "markdown",
      "source": [
        "4. Multiply a matrix by a scalar value (e.g., 2 * A).\n",
        "\n"
      ],
      "metadata": {
        "id": "LjHy3hFKbO4m"
      }
    },
    {
      "cell_type": "code",
      "source": [
        "A = np.array([[1,2],[3,4]])\n",
        "print(A)\n",
        "print('*' * 20)\n",
        "print(2 * A)"
      ],
      "metadata": {
        "colab": {
          "base_uri": "https://localhost:8080/"
        },
        "id": "8NHW-vxnbORx",
        "outputId": "e4003d35-bde0-469b-f6e3-1d943f4e6eaa"
      },
      "execution_count": 7,
      "outputs": [
        {
          "output_type": "stream",
          "name": "stdout",
          "text": [
            "[[1 2]\n",
            " [3 4]]\n",
            "********************\n",
            "[[2 4]\n",
            " [6 8]]\n"
          ]
        }
      ]
    },
    {
      "cell_type": "code",
      "source": [
        "# Define matrix\n",
        "A = np.array([[1, 2], [3, 4]])\n",
        "\n",
        "# Scalar multiplication\n",
        "scalar_result = 2 * A\n",
        "\n",
        "print(\"Matrix A:\\n\", A)\n",
        "print(\"\\n2 * A =\\n\", scalar_result)"
      ],
      "metadata": {
        "colab": {
          "base_uri": "https://localhost:8080/"
        },
        "id": "Ci8MvNQVcbXz",
        "outputId": "96789ff9-dd09-4f32-9c25-b1f53e4f34da"
      },
      "execution_count": 8,
      "outputs": [
        {
          "output_type": "stream",
          "name": "stdout",
          "text": [
            "Matrix A:\n",
            " [[1 2]\n",
            " [3 4]]\n",
            "\n",
            "2 * A =\n",
            " [[2 4]\n",
            " [6 8]]\n"
          ]
        }
      ]
    },
    {
      "cell_type": "markdown",
      "source": [
        "5. Transpose a given matrix.\n",
        "\n"
      ],
      "metadata": {
        "id": "OhBkdB80cziw"
      }
    },
    {
      "cell_type": "code",
      "source": [
        "A = np.array([[1, 2], [3, 4]])\n",
        "\n",
        "\n",
        "print(A)\n",
        "print('*' * 20)\n",
        "print(A.T)"
      ],
      "metadata": {
        "colab": {
          "base_uri": "https://localhost:8080/"
        },
        "id": "cmBw-X34df9a",
        "outputId": "c652faa3-ae8a-410c-edd2-52f016d2dbb7"
      },
      "execution_count": 9,
      "outputs": [
        {
          "output_type": "stream",
          "name": "stdout",
          "text": [
            "[[1 2]\n",
            " [3 4]]\n",
            "********************\n",
            "[[1 3]\n",
            " [2 4]]\n"
          ]
        }
      ]
    },
    {
      "cell_type": "markdown",
      "source": [
        "6. Check whether a given matrix is symmetric.\n",
        "\n"
      ],
      "metadata": {
        "id": "0tbSWb_3eIoY"
      }
    },
    {
      "cell_type": "code",
      "source": [
        "# Example matrix\n",
        "A = np.array([[1, 2, 3],\n",
        "              [2, 5, 6],\n",
        "              [3, 6, 9]])\n",
        "\n",
        "# Check symmetric condition\n",
        "if np.array_equal(A, A.T):\n",
        "    print(\"The matrix is symmetric.\")\n",
        "else:\n",
        "    print(\"The matrix is NOT symmetric.\")"
      ],
      "metadata": {
        "colab": {
          "base_uri": "https://localhost:8080/"
        },
        "id": "x3yYL3HNeNQT",
        "outputId": "285cadff-93c1-42d3-ca58-2c4c638a2b78"
      },
      "execution_count": 10,
      "outputs": [
        {
          "output_type": "stream",
          "name": "stdout",
          "text": [
            "The matrix is symmetric.\n"
          ]
        }
      ]
    },
    {
      "cell_type": "markdown",
      "source": [
        "7. Create a zero vector of length 5 and a ones vector of length 5.\n",
        "\n"
      ],
      "metadata": {
        "id": "brY-HYuFehT5"
      }
    },
    {
      "cell_type": "code",
      "source": [
        "# Zero vector of length 5\n",
        "zero_vec = np.zeros(5)\n",
        "\n",
        "# Ones vector of length 5\n",
        "ones_vec = np.ones(5)\n",
        "\n",
        "print(\"Zero Vector:\", zero_vec)\n",
        "print(\"Ones Vector:\", ones_vec)"
      ],
      "metadata": {
        "colab": {
          "base_uri": "https://localhost:8080/"
        },
        "id": "F7kSBkhCekmQ",
        "outputId": "2eb20069-6dd2-43b6-e197-cc47894ff3a1"
      },
      "execution_count": 11,
      "outputs": [
        {
          "output_type": "stream",
          "name": "stdout",
          "text": [
            "Zero Vector: [0. 0. 0. 0. 0.]\n",
            "Ones Vector: [1. 1. 1. 1. 1.]\n"
          ]
        }
      ]
    },
    {
      "cell_type": "markdown",
      "source": [
        "## Mid Level"
      ],
      "metadata": {
        "id": "OipPRu0me4Ir"
      }
    },
    {
      "cell_type": "markdown",
      "source": [
        "\n",
        "\n",
        "1. Perform matrix multiplication between two 2x2 matrices.\n",
        "\n"
      ],
      "metadata": {
        "id": "oEkIpak1e8FQ"
      }
    },
    {
      "cell_type": "code",
      "source": [
        "A = np.array([[1, 2], [3, 4]])\n",
        "B = np.array([[3, 9], [2, 1]])\n",
        "\n",
        "print(np.dot(A, B))"
      ],
      "metadata": {
        "colab": {
          "base_uri": "https://localhost:8080/"
        },
        "id": "4w3Hx8l0fAG4",
        "outputId": "332c4546-1214-4b1d-c05a-fec03bf69da9"
      },
      "execution_count": 12,
      "outputs": [
        {
          "output_type": "stream",
          "name": "stdout",
          "text": [
            "[[ 7 11]\n",
            " [17 31]]\n"
          ]
        }
      ]
    },
    {
      "cell_type": "code",
      "source": [
        "A = np.array([[1, 2], [3, 4]])\n",
        "B = np.array([[3, 9], [2, 1]])\n",
        "\n",
        "# Matrix multiplication\n",
        "C = np.dot(A, B)   # or C = A @ B\n",
        "\n",
        "print(\"Matrix Multiplication Result:\\n\", C)"
      ],
      "metadata": {
        "colab": {
          "base_uri": "https://localhost:8080/"
        },
        "id": "ENCffU_evbqy",
        "outputId": "1a264017-3bfc-4b19-a0a3-522f09694da7"
      },
      "execution_count": 13,
      "outputs": [
        {
          "output_type": "stream",
          "name": "stdout",
          "text": [
            "Matrix Multiplication Result:\n",
            " [[ 7 11]\n",
            " [17 31]]\n"
          ]
        }
      ]
    },
    {
      "cell_type": "markdown",
      "source": [
        "2. Compute the dot product of two vectors: a = [1,2,3], b = [4,5,6].\n",
        "\n"
      ],
      "metadata": {
        "id": "oQXqDcO6vfYg"
      }
    },
    {
      "cell_type": "code",
      "source": [
        "a = np.array([1,2,3])\n",
        "b = np.array([4,5,6])\n",
        "\n",
        "c = np.dot(a, b)\n",
        "print(c)"
      ],
      "metadata": {
        "colab": {
          "base_uri": "https://localhost:8080/"
        },
        "id": "TMsKaIwDves_",
        "outputId": "2714cc20-5d24-4388-a0cd-4fb88bdaf915"
      },
      "execution_count": 14,
      "outputs": [
        {
          "output_type": "stream",
          "name": "stdout",
          "text": [
            "32\n"
          ]
        }
      ]
    },
    {
      "cell_type": "markdown",
      "source": [
        "3. Compute the magnitude (norm) of a vector v = [3, 4].\n",
        "\n"
      ],
      "metadata": {
        "id": "NVO6g8cAwHhH"
      }
    },
    {
      "cell_type": "markdown",
      "source": [
        "![image.png](data:image/png;base64,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)"
      ],
      "metadata": {
        "id": "qj0vE0MUwhXN"
      }
    },
    {
      "cell_type": "code",
      "source": [
        "v = np.array([3, 4])\n",
        "\n",
        "# magnitude (Euclidean norm)\n",
        "magnitude = np.linalg.norm(v)\n",
        "print(magnitude)"
      ],
      "metadata": {
        "colab": {
          "base_uri": "https://localhost:8080/"
        },
        "id": "h0b5J8BKwKp2",
        "outputId": "61dccc77-69f0-411a-9ee3-3a3cff1ecef7"
      },
      "execution_count": 15,
      "outputs": [
        {
          "output_type": "stream",
          "name": "stdout",
          "text": [
            "5.0\n"
          ]
        }
      ]
    },
    {
      "cell_type": "markdown",
      "source": [
        "4. Find the determinant of a 2x2 and 3x3 matrix using NumPy.\n",
        "\n"
      ],
      "metadata": {
        "id": "NSUwz1HWwn_E"
      }
    },
    {
      "cell_type": "code",
      "source": [
        "# 1. Determinant of a 2×2 matrix\n",
        "# A=[[1, ​2], [3, 4]​]\n",
        "\n",
        "A = np.array([[1, 2],\n",
        "              [3, 4]])\n",
        "\n",
        "det_A = np.linalg.det(A)\n",
        "print(\"Determinant of 2x2 matrix:\", det_A)\n",
        "\n",
        "# 2. Determinant of a 3×3 matrix\n",
        "# B = [[6, 1, 1], [4, -2, 5], [2, 8, 7]]\n",
        "\n",
        "B = np.array([[6, 1, 1],\n",
        "              [4, -2, 5],\n",
        "              [2, 8, 7]])\n",
        "\n",
        "det_B = np.linalg.det(B)\n",
        "print(\"Determinant of 3x3 matrix:\", det_B)"
      ],
      "metadata": {
        "colab": {
          "base_uri": "https://localhost:8080/"
        },
        "id": "q2GndcD1wrPL",
        "outputId": "812b80e3-7a83-41ad-de4e-b716c4a1fdfa"
      },
      "execution_count": 16,
      "outputs": [
        {
          "output_type": "stream",
          "name": "stdout",
          "text": [
            "Determinant of 2x2 matrix: -2.0000000000000004\n",
            "Determinant of 3x3 matrix: -306.0\n"
          ]
        }
      ]
    },
    {
      "cell_type": "markdown",
      "source": [
        "5. Calculate the inverse of a matrix (if it exists).\n"
      ],
      "metadata": {
        "id": "CZPOUemKyED3"
      }
    },
    {
      "cell_type": "code",
      "source": [
        "A = np.array([[1, 2], [3, 4]])\n",
        "\n",
        "\n",
        "B = np.linalg.inv(A)\n",
        "print(B)"
      ],
      "metadata": {
        "colab": {
          "base_uri": "https://localhost:8080/"
        },
        "id": "83A-GHSgyHpP",
        "outputId": "7000979f-e07b-4eb3-ef2d-3e49e84fe12d"
      },
      "execution_count": 17,
      "outputs": [
        {
          "output_type": "stream",
          "name": "stdout",
          "text": [
            "[[-2.   1. ]\n",
            " [ 1.5 -0.5]]\n"
          ]
        }
      ]
    },
    {
      "cell_type": "code",
      "source": [
        "# ---- Define your matrix here ----\n",
        "A = np.array([[1., 2.],\n",
        "              [3., 4.]])\n",
        "# ---------------------------------\n",
        "\n",
        "# 1) Check square\n",
        "if A.ndim != 2 or A.shape[0] != A.shape[1]:\n",
        "    raise ValueError(\"Matrix must be square to have an inverse.\")\n",
        "\n",
        "# 2) Check if singular (det close to 0)\n",
        "detA = np.linalg.det(A)\n",
        "print(\"det(A) =\", detA)\n",
        "\n",
        "if np.isclose(detA, 0.0):\n",
        "    print(\"Matrix is singular (no inverse).\")\n",
        "else:\n",
        "    A_inv = np.linalg.inv(A)\n",
        "    print(\"A inverse:\\n\", A_inv)\n",
        "\n",
        "    # Quick verification: A @ A_inv ≈ I\n",
        "    I_approx = A @ A_inv\n",
        "    print(\"A @ A_inv (should be identity):\\n\", I_approx)"
      ],
      "metadata": {
        "colab": {
          "base_uri": "https://localhost:8080/"
        },
        "id": "DoqGBXCwydhZ",
        "outputId": "2e910ecf-32e1-4c00-cef1-67bb4a5ba343"
      },
      "execution_count": 18,
      "outputs": [
        {
          "output_type": "stream",
          "name": "stdout",
          "text": [
            "det(A) = -2.0000000000000004\n",
            "A inverse:\n",
            " [[-2.   1. ]\n",
            " [ 1.5 -0.5]]\n",
            "A @ A_inv (should be identity):\n",
            " [[1.0000000e+00 0.0000000e+00]\n",
            " [8.8817842e-16 1.0000000e+00]]\n"
          ]
        }
      ]
    },
    {
      "cell_type": "markdown",
      "source": [
        "6. Solve a system of linear equations:\n",
        "\n",
        "\n",
        "\n",
        "\n",
        "```\n",
        "2x+y=5\n",
        "x−y=1\n",
        "\n",
        "using NumPy (np.linalg.solve).\n",
        "\n",
        "```\n"
      ],
      "metadata": {
        "id": "VDTsm_up0BiY"
      }
    },
    {
      "cell_type": "markdown",
      "source": [
        "![image.png](data:image/png;base64,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)"
      ],
      "metadata": {
        "id": "TnAur5CsbDJU"
      }
    },
    {
      "cell_type": "code",
      "source": [
        "# Step 2: Solve using NumPy\n",
        "import numpy as np\n",
        "\n",
        "A = np.array([[2, 1],\n",
        "              [1, -1]])\n",
        "\n",
        "b = np.array([5, 1])\n",
        "\n",
        "# Solve Ax = b\n",
        "solution = np.linalg.solve(A, b)\n",
        "\n",
        "x, y = solution\n",
        "print(\"x =\", x, \", y =\", y)"
      ],
      "metadata": {
        "colab": {
          "base_uri": "https://localhost:8080/"
        },
        "id": "unt3Kn7Zan2L",
        "outputId": "4cd37554-ac84-4bc6-d56f-e026cdf8e941"
      },
      "execution_count": 19,
      "outputs": [
        {
          "output_type": "stream",
          "name": "stdout",
          "text": [
            "x = 2.0 , y = 1.0\n"
          ]
        }
      ]
    },
    {
      "cell_type": "markdown",
      "source": [
        "7. Create a random 4x4 matrix and find its trace..\n",
        "\n"
      ],
      "metadata": {
        "id": "vI1Mh-viafJ8"
      }
    },
    {
      "cell_type": "code",
      "source": [
        "# Create a random 4x4 matrix (values between 0 and 9)\n",
        "A = np.random.randint(1, 10, (4, 4))\n",
        "print(\"Matrix A:\\n\", A)\n",
        "\n",
        "# Find trace (sum of diagonal elements)\n",
        "trace_val = np.trace(A)\n",
        "print(\"Trace of A:\", trace_val)"
      ],
      "metadata": {
        "colab": {
          "base_uri": "https://localhost:8080/"
        },
        "id": "kHoX0jRRanQ8",
        "outputId": "5cf576dd-83c5-409c-eb31-cb1da6467c74"
      },
      "execution_count": 20,
      "outputs": [
        {
          "output_type": "stream",
          "name": "stdout",
          "text": [
            "Matrix A:\n",
            " [[7 5 6 8]\n",
            " [1 9 1 1]\n",
            " [2 8 7 8]\n",
            " [4 7 6 8]]\n",
            "Trace of A: 31\n"
          ]
        }
      ]
    },
    {
      "cell_type": "markdown",
      "source": [
        "## Advanced Level"
      ],
      "metadata": {
        "id": "7vWlLAvQbX3k"
      }
    },
    {
      "cell_type": "markdown",
      "source": [
        "\n",
        "\n",
        "1. Compute the eigenvalues and eigenvectors of a square matrix.\n",
        "\n"
      ],
      "metadata": {
        "id": "nRowayfebbfi"
      }
    },
    {
      "cell_type": "code",
      "source": [
        "# Example square matrix\n",
        "A = np.array([[4, 2],\n",
        "              [1, 3]], dtype=float)\n",
        "\n",
        "# Compute eigenvalues and eigenvectors\n",
        "eigvals, eigvecs = np.linalg.eig(A)\n",
        "\n",
        "print(\"Eigenvalues:\")\n",
        "print(eigvals)\n",
        "\n",
        "print(\"\\nEigenvectors (columns):\")\n",
        "print(eigvecs)"
      ],
      "metadata": {
        "colab": {
          "base_uri": "https://localhost:8080/"
        },
        "id": "q74SdeF_beXJ",
        "outputId": "ac9fdf52-41ea-448f-e835-2b0adc180df1"
      },
      "execution_count": 21,
      "outputs": [
        {
          "output_type": "stream",
          "name": "stdout",
          "text": [
            "Eigenvalues:\n",
            "[5. 2.]\n",
            "\n",
            "Eigenvectors (columns):\n",
            "[[ 0.89442719 -0.70710678]\n",
            " [ 0.4472136   0.70710678]]\n"
          ]
        }
      ]
    },
    {
      "cell_type": "markdown",
      "source": [
        "2. Verify the property:\n",
        "\n",
        "(\n",
        "𝐴\n",
        "⋅\n",
        "𝐵\n",
        ")\n",
        "𝑇\n",
        "=\n",
        "𝐵\n",
        "𝑇\n",
        "⋅\n",
        "𝐴\n",
        "𝑇\n",
        "\n",
        "\n",
        "\n",
        "for two random matrices.\n"
      ],
      "metadata": {
        "id": "YKt9kkaPjE7R"
      }
    },
    {
      "cell_type": "markdown",
      "source": [
        "![image.png](data:image/png;base64,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)"
      ],
      "metadata": {
        "id": "8aE3goBEjSME"
      }
    },
    {
      "cell_type": "code",
      "source": [
        "import numpy as np\n",
        "\n",
        "# Create two random matrices (compatible for multiplication)\n",
        "A = np.random.randint(1, 10, (2, 3))   # 2x3 matrix\n",
        "B = np.random.randint(1, 10, (3, 4))   # 3x4 matrix\n",
        "\n",
        "print(\"Matrix A:\\n\", A)\n",
        "print(\"\\nMatrix B:\\n\", B)\n",
        "\n",
        "# Left-hand side: (AB)^T\n",
        "lhs = (A @ B).T\n",
        "\n",
        "# Right-hand side: B^T A^T\n",
        "rhs = B.T @ A.T\n",
        "\n",
        "print(\"\\n(AB)^T:\\n\", lhs)\n",
        "print(\"\\nB^T A^T:\\n\", rhs)\n",
        "\n",
        "# Verify equality\n",
        "print(\"\\nAre they equal? ->\", np.allclose(lhs, rhs))"
      ],
      "metadata": {
        "colab": {
          "base_uri": "https://localhost:8080/"
        },
        "id": "kzQcfFUAjNFb",
        "outputId": "62f60437-36df-49d5-a610-df879a568afb"
      },
      "execution_count": 22,
      "outputs": [
        {
          "output_type": "stream",
          "name": "stdout",
          "text": [
            "Matrix A:\n",
            " [[8 5 6]\n",
            " [6 7 8]]\n",
            "\n",
            "Matrix B:\n",
            " [[4 4 7 6]\n",
            " [6 2 1 7]\n",
            " [7 6 4 1]]\n",
            "\n",
            "(AB)^T:\n",
            " [[104 122]\n",
            " [ 78  86]\n",
            " [ 85  81]\n",
            " [ 89  93]]\n",
            "\n",
            "B^T A^T:\n",
            " [[104 122]\n",
            " [ 78  86]\n",
            " [ 85  81]\n",
            " [ 89  93]]\n",
            "\n",
            "Are they equal? -> True\n"
          ]
        }
      ]
    },
    {
      "cell_type": "markdown",
      "source": [
        "3. Perform Singular Value Decomposition (SVD) of a matrix using NumPy.\n"
      ],
      "metadata": {
        "id": "igrrN7-qnDe_"
      }
    },
    {
      "cell_type": "markdown",
      "source": [
        "![image.png](data:image/png;base64,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)"
      ],
      "metadata": {
        "id": "VAKUE3sIy13T"
      }
    },
    {
      "cell_type": "code",
      "source": [
        "import numpy as np\n",
        "\n",
        "# Create a random 3x3 matrix\n",
        "A = np.random.randint(1, 10, (3, 3))\n",
        "print(\"Matrix A:\\n\", A)\n",
        "\n",
        "# Perform SVD\n",
        "U, S, Vt = np.linalg.svd(A)\n",
        "\n",
        "print(\"\\nU (Left singular vectors):\\n\", U)\n",
        "print(\"\\nSingular values:\\n\", S)\n",
        "print(\"\\nV^T (Right singular vectors):\\n\", Vt)\n",
        "\n",
        "# Reconstruct A using SVD\n",
        "Sigma = np.zeros((3, 3))\n",
        "np.fill_diagonal(Sigma, S)\n",
        "A_reconstructed = U @ Sigma @ Vt\n",
        "\n",
        "print(\"\\nReconstructed A (from SVD):\\n\", A_reconstructed)\n",
        "print(\"\\nCheck if reconstruction is close:\", np.allclose(A, A_reconstructed))"
      ],
      "metadata": {
        "colab": {
          "base_uri": "https://localhost:8080/"
        },
        "id": "4WRfcW_cnG_x",
        "outputId": "20532c34-8528-44d6-cea8-c5fcacdee05c"
      },
      "execution_count": 23,
      "outputs": [
        {
          "output_type": "stream",
          "name": "stdout",
          "text": [
            "Matrix A:\n",
            " [[9 3 2]\n",
            " [6 6 4]\n",
            " [2 8 9]]\n",
            "\n",
            "U (Left singular vectors):\n",
            " [[-0.48025682  0.73074114  0.48515026]\n",
            " [-0.561338    0.16895375 -0.81015695]\n",
            " [-0.67398296 -0.66141668  0.32905158]]\n",
            "\n",
            "Singular values:\n",
            " [16.48360158  7.62815979  1.04978905]\n",
            "\n",
            "V^T (Right singular vectors):\n",
            " [[-0.54832103 -0.61883698 -0.56248098]\n",
            " [ 0.82163451 -0.27338016 -0.50017998]\n",
            " [ 0.15575873 -0.73641298  0.65835791]]\n",
            "\n",
            "Reconstructed A (from SVD):\n",
            " [[9. 3. 2.]\n",
            " [6. 6. 4.]\n",
            " [2. 8. 9.]]\n",
            "\n",
            "Check if reconstruction is close: True\n"
          ]
        }
      ]
    },
    {
      "cell_type": "markdown",
      "source": [
        "4. Show that the dot product of two orthogonal vectors is zero.\n"
      ],
      "metadata": {
        "id": "Jhi51M_nzCO5"
      }
    },
    {
      "cell_type": "markdown",
      "source": [
        "![image.png](data:image/png;base64,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)"
      ],
      "metadata": {
        "id": "QJGAHs5IzeSS"
      }
    },
    {
      "cell_type": "code",
      "source": [
        "# Two orthogonal vectors in R^3\n",
        "a = np.array([1, 2, -1])\n",
        "b = np.array([2, -1, 0])\n",
        "\n",
        "dot = np.dot(a, b)\n",
        "print(\"a · b =\", dot)\n",
        "\n",
        "# If working with floats, use allclose to guard against tiny rounding errors:\n",
        "print(\"Is zero (within tolerance)?\", np.isclose(dot, 0.0))"
      ],
      "metadata": {
        "colab": {
          "base_uri": "https://localhost:8080/"
        },
        "id": "_4k7rbGrzexn",
        "outputId": "531e2b6c-808f-47f5-e892-f5b5a303c032"
      },
      "execution_count": 24,
      "outputs": [
        {
          "output_type": "stream",
          "name": "stdout",
          "text": [
            "a · b = 0\n",
            "Is zero (within tolerance)? True\n"
          ]
        }
      ]
    },
    {
      "cell_type": "markdown",
      "source": [
        "5. Write a function to compute the Gram-Schmidt orthogonalization process.\n",
        "\n"
      ],
      "metadata": {
        "id": "3nNDahKizjjf"
      }
    },
    {
      "cell_type": "code",
      "source": [
        "import numpy as np\n",
        "\n",
        "def gram_schmidt(vectors, orthonormalize=True):\n",
        "    \"\"\"\n",
        "    Perform Gram-Schmidt orthogonalization.\n",
        "\n",
        "    Parameters:\n",
        "        vectors (ndarray): Input matrix with shape (n, m),\n",
        "                           where n = number of vectors, m = dimension.\n",
        "        orthonormalize (bool): If True, return orthonormal basis, else just orthogonal.\n",
        "\n",
        "    Returns:\n",
        "        ndarray: Orthogonal (or orthonormal) basis.\n",
        "    \"\"\"\n",
        "    vectors = np.array(vectors, dtype=float)\n",
        "    n, m = vectors.shape\n",
        "    orthogonal = np.zeros((n, m))\n",
        "\n",
        "    for i in range(n):\n",
        "        # Start with the current vector\n",
        "        vec = vectors[i]\n",
        "\n",
        "        # Subtract projections onto previous orthogonal vectors\n",
        "        for j in range(i):\n",
        "            proj = np.dot(vec, orthogonal[j]) / np.dot(orthogonal[j], orthogonal[j]) * orthogonal[j]\n",
        "            vec = vec - proj\n",
        "\n",
        "        orthogonal[i] = vec\n",
        "\n",
        "    if orthonormalize:\n",
        "        # Normalize each vector\n",
        "        orthogonal = np.array([v / np.linalg.norm(v) for v in orthogonal])\n",
        "\n",
        "    return orthogonal\n",
        "\n",
        "# Example: Apply to 2D vectors\n",
        "V = np.array([[1, 1],\n",
        "              [1, 0]])\n",
        "\n",
        "Q = gram_schmidt(V)\n",
        "print(\"Orthonormal basis:\\n\", Q)\n",
        "\n",
        "# Verify orthogonality: dot product should be ~0\n",
        "print(\"Dot product check:\", np.dot(Q[0], Q[1]))\n"
      ],
      "metadata": {
        "colab": {
          "base_uri": "https://localhost:8080/"
        },
        "id": "9YfPqHCMzD0P",
        "outputId": "e9d85b65-4f59-4ead-c7cb-adc87dd79509"
      },
      "execution_count": 25,
      "outputs": [
        {
          "output_type": "stream",
          "name": "stdout",
          "text": [
            "Orthonormal basis:\n",
            " [[ 0.70710678  0.70710678]\n",
            " [ 0.70710678 -0.70710678]]\n",
            "Dot product check: 0.0\n"
          ]
        }
      ]
    },
    {
      "cell_type": "markdown",
      "source": [
        "6. Implement a function to check if a matrix is positive definite.\n",
        "\n"
      ],
      "metadata": {
        "id": "rqqBNPYAz1Cj"
      }
    },
    {
      "cell_type": "code",
      "source": [
        "import numpy as np\n",
        "\n",
        "def is_positive_definite(A):\n",
        "    \"\"\"\n",
        "    Check if a matrix A is positive definite.\n",
        "\n",
        "    Conditions:\n",
        "    1. A must be symmetric.\n",
        "    2. All eigenvalues must be > 0.\n",
        "    \"\"\"\n",
        "    # Ensure it's symmetric\n",
        "    if not np.allclose(A, A.T):\n",
        "        return False\n",
        "\n",
        "    # Compute eigenvalues\n",
        "    eigenvalues = np.linalg.eigvals(A)\n",
        "\n",
        "    return np.all(eigenvalues > 0)\n",
        "\n",
        "# Example 1: Positive definite\n",
        "A = np.array([[2, -1],\n",
        "              [-1, 2]])\n",
        "\n",
        "print(\"Matrix A:\\n\", A)\n",
        "print(\"Is positive definite?\", is_positive_definite(A))\n",
        "\n",
        "# Example 2: Not positive definite\n",
        "B = np.array([[0, 1],\n",
        "              [1, 0]])\n",
        "\n",
        "print(\"\\nMatrix B:\\n\", B)\n",
        "print(\"Is positive definite?\", is_positive_definite(B))"
      ],
      "metadata": {
        "colab": {
          "base_uri": "https://localhost:8080/"
        },
        "id": "nCY2wwnUz4bF",
        "outputId": "7948e11f-a5d5-4961-e9bc-8671f3e17ccb"
      },
      "execution_count": 26,
      "outputs": [
        {
          "output_type": "stream",
          "name": "stdout",
          "text": [
            "Matrix A:\n",
            " [[ 2 -1]\n",
            " [-1  2]]\n",
            "Is positive definite? True\n",
            "\n",
            "Matrix B:\n",
            " [[0 1]\n",
            " [1 0]]\n",
            "Is positive definite? False\n"
          ]
        }
      ]
    },
    {
      "cell_type": "markdown",
      "source": [
        "7. Use NumPy to simulate a rotation matrix (2D rotation by θ) and rotate a vector.\n",
        "\n"
      ],
      "metadata": {
        "id": "5CpudE8A0BwT"
      }
    },
    {
      "cell_type": "markdown",
      "source": [
        "![image.png](data:image/png;base64,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)"
      ],
      "metadata": {
        "id": "teRo23b40PqI"
      }
    },
    {
      "cell_type": "code",
      "source": [
        "def rotate_vector(v, theta):\n",
        "    \"\"\"\n",
        "    Rotate a 2D vector v by angle theta (in radians).\n",
        "    \"\"\"\n",
        "    R = np.array([\n",
        "        [np.cos(theta), -np.sin(theta)],\n",
        "        [np.sin(theta),  np.cos(theta)]\n",
        "    ])\n",
        "\n",
        "    return R @ v  # Matrix multiplication\n",
        "\n",
        "# Example vector\n",
        "v = np.array([1, 0])   # along x-axis\n",
        "\n",
        "# Rotate by 90 degrees (π/2 radians)\n",
        "theta = np.pi / 2\n",
        "v_rotated = rotate_vector(v, theta)\n",
        "\n",
        "print(\"Original vector:\", v)\n",
        "print(\"Rotated vector:\", v_rotated)"
      ],
      "metadata": {
        "colab": {
          "base_uri": "https://localhost:8080/"
        },
        "id": "nZVGH7Ls0QFR",
        "outputId": "bfe3824b-883c-4b9f-d34e-fb979deb106d"
      },
      "execution_count": 27,
      "outputs": [
        {
          "output_type": "stream",
          "name": "stdout",
          "text": [
            "Original vector: [1 0]\n",
            "Rotated vector: [6.123234e-17 1.000000e+00]\n"
          ]
        }
      ]
    }
  ]
}
{
  "nbformat": 4,
  "nbformat_minor": 0,
  "metadata": {
    "colab": {
      "provenance": []
    },
    "kernelspec": {
      "name": "python3",
      "display_name": "Python 3"
    },
    "language_info": {
      "name": "python"
    }
  },
  "cells": [
    {
      "cell_type": "markdown",
      "source": [
        "# **NumPy Practice – Arrays, Indexing, Reshaping**"
      ],
      "metadata": {
        "id": "hyl5W0KLsqgR"
      }
    },
    {
      "cell_type": "markdown",
      "source": [
        "## Beginner Level"
      ],
      "metadata": {
        "id": "4rocKXjVsu2D"
      }
    },
    {
      "cell_type": "markdown",
      "source": [
        "(Understand basic array creation and operations)"
      ],
      "metadata": {
        "id": "4hGYk_GYyxrf"
      }
    },
    {
      "cell_type": "markdown",
      "source": [
        "\n",
        "\n",
        "1.   Create a 1D NumPy array with values from 0 to 9.\n",
        "\n"
      ],
      "metadata": {
        "id": "bWdPuhMZsy_U"
      }
    },
    {
      "cell_type": "code",
      "execution_count": 1,
      "metadata": {
        "colab": {
          "base_uri": "https://localhost:8080/"
        },
        "id": "whARwCrnslar",
        "outputId": "a0075148-fd4a-472b-c09d-5b2ce0f25738"
      },
      "outputs": [
        {
          "output_type": "stream",
          "name": "stdout",
          "text": [
            "[0 1 2 3 4 5 6 7 8 9]\n"
          ]
        }
      ],
      "source": [
        "import numpy as np\n",
        "\n",
        "arr = np.arange(10)\n",
        "print(arr)"
      ]
    },
    {
      "cell_type": "markdown",
      "source": [
        "2. Create a NumPy array filled with zeros, ones, and a custom constant (e.g., 7).\n"
      ],
      "metadata": {
        "id": "94JGceLYtYy7"
      }
    },
    {
      "cell_type": "code",
      "source": [
        "on = np.ones(10)\n",
        "ze = np.zeros((3,2))\n",
        "se = np.full((3,3), 7)\n",
        "\n",
        "print(on)\n",
        "print(\"*\"*20)\n",
        "print(ze)\n",
        "print(\"*\"*20)\n",
        "print(se)"
      ],
      "metadata": {
        "colab": {
          "base_uri": "https://localhost:8080/"
        },
        "id": "eJcn0aD9tYRs",
        "outputId": "bd7ea307-35d6-493b-fbe3-0be8456bd156"
      },
      "execution_count": 2,
      "outputs": [
        {
          "output_type": "stream",
          "name": "stdout",
          "text": [
            "[1. 1. 1. 1. 1. 1. 1. 1. 1. 1.]\n",
            "********************\n",
            "[[0. 0.]\n",
            " [0. 0.]\n",
            " [0. 0.]]\n",
            "********************\n",
            "[[7 7 7]\n",
            " [7 7 7]\n",
            " [7 7 7]]\n"
          ]
        }
      ]
    },
    {
      "cell_type": "markdown",
      "source": [
        "3. Create a 2D array of shape (3, 3) with numbers from 1 to 9.\n",
        "\n"
      ],
      "metadata": {
        "id": "qVivHquMu9q7"
      }
    },
    {
      "cell_type": "code",
      "source": [
        "arr = np.arange(1, 10).reshape(3, 3)\n",
        "\n",
        "print(arr)"
      ],
      "metadata": {
        "colab": {
          "base_uri": "https://localhost:8080/"
        },
        "id": "htVI8O82uF9U",
        "outputId": "d3209076-007a-4e9f-8319-9f51ab525057"
      },
      "execution_count": 3,
      "outputs": [
        {
          "output_type": "stream",
          "name": "stdout",
          "text": [
            "[[1 2 3]\n",
            " [4 5 6]\n",
            " [7 8 9]]\n"
          ]
        }
      ]
    },
    {
      "cell_type": "markdown",
      "source": [
        "4. Extract the first 3 elements from a 1D array.\n"
      ],
      "metadata": {
        "id": "vocxDBvbv4rd"
      }
    },
    {
      "cell_type": "code",
      "source": [
        "arr1 = np.arange(10)\n",
        "print(arr1)\n",
        "\n",
        "first_three = arr1[:3]\n",
        "print(first_three)"
      ],
      "metadata": {
        "colab": {
          "base_uri": "https://localhost:8080/"
        },
        "id": "_o9gtFsIvWkb",
        "outputId": "865df0bb-45b4-4d0a-95aa-9862d987e9a1"
      },
      "execution_count": 4,
      "outputs": [
        {
          "output_type": "stream",
          "name": "stdout",
          "text": [
            "[0 1 2 3 4 5 6 7 8 9]\n",
            "[0 1 2]\n"
          ]
        }
      ]
    },
    {
      "cell_type": "markdown",
      "source": [
        "5. Given an array [10, 20, 30, 40, 50], access the last two elements.\n",
        "\n"
      ],
      "metadata": {
        "id": "5uc6K_F1wiaY"
      }
    },
    {
      "cell_type": "code",
      "source": [
        "arr = [10, 20, 30, 40, 50]\n",
        "\n",
        "last_two = arr[-2:]\n",
        "print(last_two)"
      ],
      "metadata": {
        "colab": {
          "base_uri": "https://localhost:8080/"
        },
        "id": "JpKm9XKVwfWx",
        "outputId": "e5d0b98e-0b7c-40b9-d3b4-da8815790b47"
      },
      "execution_count": 5,
      "outputs": [
        {
          "output_type": "stream",
          "name": "stdout",
          "text": [
            "[40, 50]\n"
          ]
        }
      ]
    },
    {
      "cell_type": "markdown",
      "source": [
        "6.   Slice the 2D array below to extract only the first two rows:\n",
        "\n",
        "arr = np.array([[1,2,3],[4,5,6],[7,8,9]])"
      ],
      "metadata": {
        "id": "cBUgCU2vxA_H"
      }
    },
    {
      "cell_type": "code",
      "source": [
        "arr = np.array([[1,2,3],[4,5,6],[7,8,9]])\n",
        "\n",
        "first_two_rows = arr[:2, :]\n",
        "print(first_two_rows)"
      ],
      "metadata": {
        "colab": {
          "base_uri": "https://localhost:8080/"
        },
        "id": "mAttLJUaxH8p",
        "outputId": "7041d368-8f52-466e-ba07-11c5ec40fb9e"
      },
      "execution_count": 6,
      "outputs": [
        {
          "output_type": "stream",
          "name": "stdout",
          "text": [
            "[[1 2 3]\n",
            " [4 5 6]]\n"
          ]
        }
      ]
    },
    {
      "cell_type": "markdown",
      "source": [
        "7. Reshape a 1D array of 12 elements into a 3x4 2D array.\n",
        "\n"
      ],
      "metadata": {
        "id": "lU--G4xrxvhT"
      }
    },
    {
      "cell_type": "code",
      "source": [
        "arr1 = np.arange(1, 13)\n",
        "\n",
        "arr2 = arr1.reshape(3, 4)\n",
        "\n",
        "print(arr2)"
      ],
      "metadata": {
        "colab": {
          "base_uri": "https://localhost:8080/"
        },
        "id": "NH0OkS25xrWo",
        "outputId": "eb794af1-d9fc-4a9c-eade-d67ee86a3970"
      },
      "execution_count": 7,
      "outputs": [
        {
          "output_type": "stream",
          "name": "stdout",
          "text": [
            "[[ 1  2  3  4]\n",
            " [ 5  6  7  8]\n",
            " [ 9 10 11 12]]\n"
          ]
        }
      ]
    },
    {
      "cell_type": "markdown",
      "source": [
        "## Mid Level"
      ],
      "metadata": {
        "id": "P5xiLsZYylj-"
      }
    },
    {
      "cell_type": "markdown",
      "source": [
        "(Apply indexing, slicing, reshaping in problem-solving)"
      ],
      "metadata": {
        "id": "U1G2Dmn-yuXu"
      }
    },
    {
      "cell_type": "markdown",
      "source": [
        "1. Create an array of even numbers from 2 to 20.\n",
        "\n",
        "\n"
      ],
      "metadata": {
        "id": "5yxt3otUypv-"
      }
    },
    {
      "cell_type": "code",
      "source": [
        "arr = np.arange(2, 21, 2)\n",
        "print(arr)\n"
      ],
      "metadata": {
        "colab": {
          "base_uri": "https://localhost:8080/"
        },
        "id": "ldNeL7aOypFp",
        "outputId": "960ae09b-1e47-4b1f-a7f3-ec84283bdeac"
      },
      "execution_count": 8,
      "outputs": [
        {
          "output_type": "stream",
          "name": "stdout",
          "text": [
            "[ 2  4  6  8 10 12 14 16 18 20]\n"
          ]
        }
      ]
    },
    {
      "cell_type": "markdown",
      "source": [
        "2. Generate a 4x4 identity matrix using NumPy.\n",
        "\n"
      ],
      "metadata": {
        "id": "ufXnkMVzz3vO"
      }
    },
    {
      "cell_type": "code",
      "source": [
        "iden = np.identity(4)\n",
        "print(iden)"
      ],
      "metadata": {
        "colab": {
          "base_uri": "https://localhost:8080/"
        },
        "id": "7Nf88tf9zLMO",
        "outputId": "c422ae7f-3d33-4897-88b0-e8de86baf5cc"
      },
      "execution_count": 9,
      "outputs": [
        {
          "output_type": "stream",
          "name": "stdout",
          "text": [
            "[[1. 0. 0. 0.]\n",
            " [0. 1. 0. 0.]\n",
            " [0. 0. 1. 0.]\n",
            " [0. 0. 0. 1.]]\n"
          ]
        }
      ]
    },
    {
      "cell_type": "code",
      "source": [
        "iden = np.eye(4)\n",
        "print(iden)"
      ],
      "metadata": {
        "colab": {
          "base_uri": "https://localhost:8080/"
        },
        "id": "kOucuCfk0TEu",
        "outputId": "4d0e9821-52da-4480-de80-afe1846638da"
      },
      "execution_count": 10,
      "outputs": [
        {
          "output_type": "stream",
          "name": "stdout",
          "text": [
            "[[1. 0. 0. 0.]\n",
            " [0. 1. 0. 0.]\n",
            " [0. 0. 1. 0.]\n",
            " [0. 0. 0. 1.]]\n"
          ]
        }
      ]
    },
    {
      "cell_type": "markdown",
      "source": [
        "3. Create a 3x3 matrix with random integers between 1 and 20. Find the max, min, and their indices.\n",
        "\n"
      ],
      "metadata": {
        "id": "UFcXb3Oz0im1"
      }
    },
    {
      "cell_type": "code",
      "source": [
        "arr = np.random.randint(1, 21, (3, 3))\n",
        "print(arr)\n",
        "\n",
        "\n",
        "maxx = arr.max()\n",
        "minn = arr.min()\n",
        "\n",
        "max_ind = np.unravel_index(arr.argmax(), arr.shape)\n",
        "min_ind = np.unravel_index(arr.argmin(), arr.shape)\n",
        "\n",
        "print(f\"Maximum Value: {maxx} at index {max_ind}\")\n",
        "print(f\"Minimum Value: {minn} at index {min_ind}\")\n",
        "\n",
        "# 🔹 Find ALL indices of max and min values\n",
        "max_indices = np.argwhere(arr == maxx)\n",
        "min_indices = np.argwhere(arr == minn)\n",
        "\n",
        "print(f\"All indices of Maximum Value {maxx}: {max_indices}\")\n",
        "print(f\"All indices of Minimum Value {minn}: {min_indices}\")"
      ],
      "metadata": {
        "colab": {
          "base_uri": "https://localhost:8080/"
        },
        "id": "cCgxnAhu0a9d",
        "outputId": "9f2caa06-2c92-4a1f-b24c-c712eee84ba8"
      },
      "execution_count": 11,
      "outputs": [
        {
          "output_type": "stream",
          "name": "stdout",
          "text": [
            "[[ 5 16 11]\n",
            " [19 20  1]\n",
            " [13 16 15]]\n",
            "Maximum Value: 20 at index (np.int64(1), np.int64(1))\n",
            "Minimum Value: 1 at index (np.int64(1), np.int64(2))\n",
            "All indices of Maximum Value 20: [[1 1]]\n",
            "All indices of Minimum Value 1: [[1 2]]\n"
          ]
        }
      ]
    },
    {
      "cell_type": "markdown",
      "source": [
        "4. Replace all odd numbers in a NumPy array with -1.\n",
        "\n"
      ],
      "metadata": {
        "id": "83aVEmWy5uiI"
      }
    },
    {
      "cell_type": "code",
      "source": [
        "arr = np.array([1, 2, 3, 4, 5, 6, 7, 8, 9])\n",
        "print(\"Original Array:\", arr)\n",
        "\n",
        "arr[arr % 2 != 0] = -1\n",
        "print(\"Modified Array:\", arr)"
      ],
      "metadata": {
        "colab": {
          "base_uri": "https://localhost:8080/"
        },
        "id": "SqGBLPk75z1o",
        "outputId": "5eb99858-c5f6-49bb-8bdf-d09887155b8b"
      },
      "execution_count": 12,
      "outputs": [
        {
          "output_type": "stream",
          "name": "stdout",
          "text": [
            "Original Array: [1 2 3 4 5 6 7 8 9]\n",
            "Modified Array: [-1  2 -1  4 -1  6 -1  8 -1]\n"
          ]
        }
      ]
    },
    {
      "cell_type": "markdown",
      "source": [
        "5. Given a 1D array of 25 numbers, reshape it into a 5x5 matrix and extract the 2nd row.\n",
        "\n"
      ],
      "metadata": {
        "id": "vw5XVvKY8yXb"
      }
    },
    {
      "cell_type": "code",
      "source": [
        "arr = np.arange(25)\n",
        "\n",
        "arr1 = arr.reshape(5, 5)\n",
        "\n",
        "sec = arr1[1]\n",
        "\n",
        "print(sec)"
      ],
      "metadata": {
        "colab": {
          "base_uri": "https://localhost:8080/"
        },
        "id": "WGI54V_h6QH4",
        "outputId": "fac61075-06c1-4494-ecd1-a98a941fb5ce"
      },
      "execution_count": 13,
      "outputs": [
        {
          "output_type": "stream",
          "name": "stdout",
          "text": [
            "[5 6 7 8 9]\n"
          ]
        }
      ]
    },
    {
      "cell_type": "markdown",
      "source": [
        "6. Stack two arrays vertically and horizontally:\n",
        "\n",
        "a = np.array([1,2,3])\n",
        "b = np.array([4,5,6])\n",
        "\n"
      ],
      "metadata": {
        "id": "rXPoze8G92rr"
      }
    },
    {
      "cell_type": "code",
      "source": [
        "a = np.array([1,2,3])\n",
        "b = np.array([4,5,6])\n",
        "\n",
        "v_stack = np.vstack((a, b))\n",
        "h_stack = np.hstack((a, b))\n",
        "\n",
        "print(\"Vertical Stack:\\n\", v_stack)\n",
        "print(\"Horizontal Stack:\\n\", h_stack)"
      ],
      "metadata": {
        "colab": {
          "base_uri": "https://localhost:8080/"
        },
        "id": "MVheGzyn-Agw",
        "outputId": "3a59d776-946e-4bac-e385-c1d5d3713795"
      },
      "execution_count": 14,
      "outputs": [
        {
          "output_type": "stream",
          "name": "stdout",
          "text": [
            "Vertical Stack:\n",
            " [[1 2 3]\n",
            " [4 5 6]]\n",
            "Horizontal Stack:\n",
            " [1 2 3 4 5 6]\n"
          ]
        }
      ]
    },
    {
      "cell_type": "markdown",
      "source": [
        "7. Flatten a 2D array into a 1D array.\n"
      ],
      "metadata": {
        "id": "S1hPliBU-oQk"
      }
    },
    {
      "cell_type": "code",
      "source": [
        "import numpy as np\n",
        "\n",
        "# Create a 2D array\n",
        "arr = np.array([[1, 2, 3],\n",
        "                [4, 5, 6]])\n",
        "\n",
        "# Flatten the array\n",
        "flat1 = arr.flatten()   # returns a copy\n",
        "flat2 = arr.ravel()     # returns a view (more memory efficient)\n",
        "\n",
        "print(\"Original 2D Array:\\n\", arr)\n",
        "print(\"Flattened with flatten():\", flat1)\n",
        "print(\"Flattened with ravel():\", flat2)\n"
      ],
      "metadata": {
        "colab": {
          "base_uri": "https://localhost:8080/"
        },
        "id": "UGMmR-Mw-qJE",
        "outputId": "ee7f8e49-50d9-4fb1-cad8-9d89a1ee603d"
      },
      "execution_count": 15,
      "outputs": [
        {
          "output_type": "stream",
          "name": "stdout",
          "text": [
            "Original 2D Array:\n",
            " [[1 2 3]\n",
            " [4 5 6]]\n",
            "Flattened with flatten(): [1 2 3 4 5 6]\n",
            "Flattened with ravel(): [1 2 3 4 5 6]\n"
          ]
        }
      ]
    },
    {
      "cell_type": "markdown",
      "source": [
        "## Advanced Level"
      ],
      "metadata": {
        "id": "XpRypXRj_gxO"
      }
    },
    {
      "cell_type": "markdown",
      "source": [
        "(More complex reshaping, fancy indexing, boolean masking)"
      ],
      "metadata": {
        "id": "tA2Nzpk-_i6z"
      }
    },
    {
      "cell_type": "markdown",
      "source": [
        "1. Create a 5x5 matrix of random numbers and extract the diagonal elements.\n",
        "\n",
        "\n"
      ],
      "metadata": {
        "id": "Eds00t76_k8R"
      }
    },
    {
      "cell_type": "code",
      "source": [
        "import numpy as np\n",
        "\n",
        "# Create a 5x5 random matrix (numbers 1–100 for clarity)\n",
        "arr = np.random.randint(1, 101, size=(5, 5))\n",
        "\n",
        "# Extract diagonal elements\n",
        "diag = np.diag(arr)\n",
        "\n",
        "print(\"5x5 Random Matrix:\\n\", arr)\n",
        "print(\"Diagonal Elements:\", diag)"
      ],
      "metadata": {
        "colab": {
          "base_uri": "https://localhost:8080/"
        },
        "id": "4wEnIfEe_icS",
        "outputId": "0d624449-096d-40ea-d75c-23ac9c411279"
      },
      "execution_count": 16,
      "outputs": [
        {
          "output_type": "stream",
          "name": "stdout",
          "text": [
            "5x5 Random Matrix:\n",
            " [[32 89 60  8 91]\n",
            " [80 50 48 91 28]\n",
            " [21 76  8 14 48]\n",
            " [50 34 56 20 22]\n",
            " [ 9 15 35  8 32]]\n",
            "Diagonal Elements: [32 50  8 20 32]\n"
          ]
        }
      ]
    },
    {
      "cell_type": "markdown",
      "source": [
        "2. Given a 4x4 matrix, replace the second column with all 0s.\n",
        "\n"
      ],
      "metadata": {
        "id": "kjq1NBMdAOIB"
      }
    },
    {
      "cell_type": "code",
      "source": [
        "import numpy as np\n",
        "\n",
        "# Create a 4x4 matrix\n",
        "arr = np.arange(1, 17).reshape(4, 4)\n",
        "\n",
        "print(\"Original Matrix:\\n\", arr)\n",
        "\n",
        "# Replace second column (index 1) with 0s\n",
        "arr[:, 1] = 0\n",
        "\n",
        "print(\"\\nModified Matrix:\\n\", arr)"
      ],
      "metadata": {
        "colab": {
          "base_uri": "https://localhost:8080/"
        },
        "id": "D1E4idQ9ARCC",
        "outputId": "8d72832a-3008-43f0-e138-8c8ef2fb10a7"
      },
      "execution_count": 17,
      "outputs": [
        {
          "output_type": "stream",
          "name": "stdout",
          "text": [
            "Original Matrix:\n",
            " [[ 1  2  3  4]\n",
            " [ 5  6  7  8]\n",
            " [ 9 10 11 12]\n",
            " [13 14 15 16]]\n",
            "\n",
            "Modified Matrix:\n",
            " [[ 1  0  3  4]\n",
            " [ 5  0  7  8]\n",
            " [ 9  0 11 12]\n",
            " [13  0 15 16]]\n"
          ]
        }
      ]
    },
    {
      "cell_type": "markdown",
      "source": [
        "3. Create a 10x10 matrix with values from 1 to 100, then extract all even numbers using boolean indexing.\n",
        "\n"
      ],
      "metadata": {
        "id": "6VXikl_7AgIi"
      }
    },
    {
      "cell_type": "code",
      "source": [
        "import numpy as np\n",
        "\n",
        "# Create 10x10 matrix with values 1 to 100\n",
        "arr = np.arange(1, 101).reshape(10, 10)\n",
        "\n",
        "print(\"Original 10x10 Matrix:\\n\", arr)\n",
        "\n",
        "# Extract even numbers using boolean indexing\n",
        "even_numbers = arr[arr % 2 == 0]\n",
        "\n",
        "print(\"\\nEven Numbers:\\n\", even_numbers)"
      ],
      "metadata": {
        "colab": {
          "base_uri": "https://localhost:8080/"
        },
        "id": "lEGeAF69AfZA",
        "outputId": "d9a4aa95-c951-4ad5-a9bd-e7b9a7f52c61"
      },
      "execution_count": 18,
      "outputs": [
        {
          "output_type": "stream",
          "name": "stdout",
          "text": [
            "Original 10x10 Matrix:\n",
            " [[  1   2   3   4   5   6   7   8   9  10]\n",
            " [ 11  12  13  14  15  16  17  18  19  20]\n",
            " [ 21  22  23  24  25  26  27  28  29  30]\n",
            " [ 31  32  33  34  35  36  37  38  39  40]\n",
            " [ 41  42  43  44  45  46  47  48  49  50]\n",
            " [ 51  52  53  54  55  56  57  58  59  60]\n",
            " [ 61  62  63  64  65  66  67  68  69  70]\n",
            " [ 71  72  73  74  75  76  77  78  79  80]\n",
            " [ 81  82  83  84  85  86  87  88  89  90]\n",
            " [ 91  92  93  94  95  96  97  98  99 100]]\n",
            "\n",
            "Even Numbers:\n",
            " [  2   4   6   8  10  12  14  16  18  20  22  24  26  28  30  32  34  36\n",
            "  38  40  42  44  46  48  50  52  54  56  58  60  62  64  66  68  70  72\n",
            "  74  76  78  80  82  84  86  88  90  92  94  96  98 100]\n"
          ]
        }
      ]
    },
    {
      "cell_type": "markdown",
      "source": [
        "4. Given:\n",
        "\n",
        "arr = np.arange(1, 17).reshape(4,4)\n",
        "\n",
        "Extract the sub-matrix:\n",
        "\n",
        "[[6,7],\n",
        " [10,11]]\n",
        "\n"
      ],
      "metadata": {
        "id": "ie3MnR61A7uw"
      }
    },
    {
      "cell_type": "code",
      "source": [
        "import numpy as np\n",
        "\n",
        "arr = np.arange(1, 17).reshape(4, 4)\n",
        "print(arr)"
      ],
      "metadata": {
        "colab": {
          "base_uri": "https://localhost:8080/"
        },
        "id": "Y8l5YlzvBGiD",
        "outputId": "dc0c25b3-bfea-4821-bbe9-186b6dcf186a"
      },
      "execution_count": 19,
      "outputs": [
        {
          "output_type": "stream",
          "name": "stdout",
          "text": [
            "[[ 1  2  3  4]\n",
            " [ 5  6  7  8]\n",
            " [ 9 10 11 12]\n",
            " [13 14 15 16]]\n"
          ]
        }
      ]
    },
    {
      "cell_type": "code",
      "source": [
        "sub_matrix = arr[1:3, 1:3]\n",
        "print(sub_matrix)"
      ],
      "metadata": {
        "colab": {
          "base_uri": "https://localhost:8080/"
        },
        "id": "yOtU5qVbBM65",
        "outputId": "8cb24998-d2ad-4210-fb0a-5102e35d3f24"
      },
      "execution_count": 20,
      "outputs": [
        {
          "output_type": "stream",
          "name": "stdout",
          "text": [
            "[[ 6  7]\n",
            " [10 11]]\n"
          ]
        }
      ]
    },
    {
      "cell_type": "markdown",
      "source": [
        "5. Create a 6x6 array and reshape it into a 3D array of shape (2,3,6).\n",
        "\n"
      ],
      "metadata": {
        "id": "hFL_BmdzBVif"
      }
    },
    {
      "cell_type": "code",
      "source": [
        "import numpy as np\n",
        "\n",
        "# Step 1: Create a 6x6 array\n",
        "arr = np.arange(1, 37).reshape(6, 6)\n",
        "print(\"6x6 Array:\\n\", arr)\n",
        "\n",
        "# Step 2: Reshape into 3D array (2, 3, 6)\n",
        "arr_3d = arr.reshape(2, 3, 6)\n",
        "print(\"\\nReshaped 3D Array (2,3,6):\\n\", arr_3d)"
      ],
      "metadata": {
        "colab": {
          "base_uri": "https://localhost:8080/"
        },
        "id": "MsMwhQjLBX6g",
        "outputId": "06ab731f-0bbf-49dc-d91a-9c42fc3d73ec"
      },
      "execution_count": 21,
      "outputs": [
        {
          "output_type": "stream",
          "name": "stdout",
          "text": [
            "6x6 Array:\n",
            " [[ 1  2  3  4  5  6]\n",
            " [ 7  8  9 10 11 12]\n",
            " [13 14 15 16 17 18]\n",
            " [19 20 21 22 23 24]\n",
            " [25 26 27 28 29 30]\n",
            " [31 32 33 34 35 36]]\n",
            "\n",
            "Reshaped 3D Array (2,3,6):\n",
            " [[[ 1  2  3  4  5  6]\n",
            "  [ 7  8  9 10 11 12]\n",
            "  [13 14 15 16 17 18]]\n",
            "\n",
            " [[19 20 21 22 23 24]\n",
            "  [25 26 27 28 29 30]\n",
            "  [31 32 33 34 35 36]]]\n"
          ]
        }
      ]
    },
    {
      "cell_type": "markdown",
      "source": [
        "6. Use advanced indexing to pick elements at positions (0,0), (1,1), (2,2), (3,3) from a 2D array.\n",
        "\n"
      ],
      "metadata": {
        "id": "6ayMTtjoBg34"
      }
    },
    {
      "cell_type": "code",
      "source": [
        "import numpy as np\n",
        "\n",
        "# Create a 4x4 array\n",
        "arr = np.arange(1, 17).reshape(4, 4)\n",
        "print(\"Original Array:\\n\", arr)\n",
        "\n",
        "# Advanced indexing: pick elements at (0,0), (1,1), (2,2), (3,3)\n",
        "rows = [0, 1, 2, 3]\n",
        "cols = [0, 1, 2, 3]\n",
        "\n",
        "picked = arr[rows, cols]\n",
        "print(\"\\nPicked Elements:\", picked)"
      ],
      "metadata": {
        "colab": {
          "base_uri": "https://localhost:8080/"
        },
        "id": "f8cbQVtyBj-h",
        "outputId": "1cd70c50-43d0-4a6f-dd8a-2827517de286"
      },
      "execution_count": 22,
      "outputs": [
        {
          "output_type": "stream",
          "name": "stdout",
          "text": [
            "Original Array:\n",
            " [[ 1  2  3  4]\n",
            " [ 5  6  7  8]\n",
            " [ 9 10 11 12]\n",
            " [13 14 15 16]]\n",
            "\n",
            "Picked Elements: [ 1  6 11 16]\n"
          ]
        }
      ]
    },
    {
      "cell_type": "markdown",
      "source": [
        "7. Create a random array of size 20 and sort it in ascending and descending order.\n",
        "\n"
      ],
      "metadata": {
        "id": "GCoTSqSABpVg"
      }
    },
    {
      "cell_type": "code",
      "source": [
        "import numpy as np\n",
        "\n",
        "# Create a random array of size 20 with integers between 1 and 100\n",
        "arr = np.random.randint(1, 101, 20)\n",
        "print(\"Original Array:\\n\", arr)\n",
        "\n",
        "# Sort in ascending order\n",
        "asc = np.sort(arr)\n",
        "print(\"\\nAscending Order:\\n\", asc)\n",
        "\n",
        "# Sort in descending order\n",
        "desc = np.sort(arr)[::-1]\n",
        "print(\"\\nDescending Order:\\n\", desc)"
      ],
      "metadata": {
        "colab": {
          "base_uri": "https://localhost:8080/"
        },
        "id": "qhUy0pcEBtL4",
        "outputId": "ca38e699-6327-4636-eef3-38bd73d70546"
      },
      "execution_count": 23,
      "outputs": [
        {
          "output_type": "stream",
          "name": "stdout",
          "text": [
            "Original Array:\n",
            " [94 24 16 24 66 29 78 44 84 37 41 36 71 89 62 13 15 73 93  1]\n",
            "\n",
            "Ascending Order:\n",
            " [ 1 13 15 16 24 24 29 36 37 41 44 62 66 71 73 78 84 89 93 94]\n",
            "\n",
            "Descending Order:\n",
            " [94 93 89 84 78 73 71 66 62 44 41 37 36 29 24 24 16 15 13  1]\n"
          ]
        }
      ]
    }
  ]
}

{
  "nbformat": 4,
  "nbformat_minor": 0,
  "metadata": {
    "colab": {
      "provenance": []
    },
    "kernelspec": {
      "name": "python3",
      "display_name": "Python 3"
    },
    "language_info": {
      "name": "python"
    }
  },
  "cells": [
    {
      "cell_type": "markdown",
      "source": [
        "# **NumPy Practice – Arrays, Indexing, Reshaping**"
      ],
      "metadata": {
        "id": "hyl5W0KLsqgR"
      }
    },
    {
      "cell_type": "markdown",
      "source": [
        "## Beginner Level"
      ],
      "metadata": {
        "id": "4rocKXjVsu2D"
      }
    },
    {
      "cell_type": "markdown",
      "source": [
        "(Understand basic array creation and operations)"
      ],
      "metadata": {
        "id": "4hGYk_GYyxrf"
      }
    },
    {
      "cell_type": "markdown",
      "source": [
        "\n",
        "\n",
        "1.   Create a 1D NumPy array with values from 0 to 9.\n",
        "\n"
      ],
      "metadata": {
        "id": "bWdPuhMZsy_U"
      }
    },
    {
      "cell_type": "code",
      "execution_count": 1,
      "metadata": {
        "colab": {
          "base_uri": "https://localhost:8080/"
        },
        "id": "whARwCrnslar",
        "outputId": "b35ffd94-84c0-4c15-fd00-d8ca16ec3259"
      },
      "outputs": [
        {
          "output_type": "stream",
          "name": "stdout",
          "text": [
            "[0 1 2 3 4 5 6 7 8 9]\n"
          ]
        }
      ],
      "source": [
        "import numpy as np\n",
        "\n",
        "arr = np.arange(10)\n",
        "print(arr)"
      ]
    },
    {
      "cell_type": "markdown",
      "source": [
        "2. Create a NumPy array filled with zeros, ones, and a custom constant (e.g., 7).\n"
      ],
      "metadata": {
        "id": "94JGceLYtYy7"
      }
    },
    {
      "cell_type": "code",
      "source": [
        "on = np.ones(10)\n",
        "ze = np.zeros((3,2))\n",
        "se = np.full((3,3), 7)\n",
        "\n",
        "print(on)\n",
        "print(\"*\"*20)\n",
        "print(ze)\n",
        "print(\"*\"*20)\n",
        "print(se)"
      ],
      "metadata": {
        "colab": {
          "base_uri": "https://localhost:8080/"
        },
        "id": "eJcn0aD9tYRs",
        "outputId": "1ed4b55d-13f0-47bf-90a0-f1781bfe289a"
      },
      "execution_count": 5,
      "outputs": [
        {
          "output_type": "stream",
          "name": "stdout",
          "text": [
            "[1. 1. 1. 1. 1. 1. 1. 1. 1. 1.]\n",
            "********************\n",
            "[[0. 0.]\n",
            " [0. 0.]\n",
            " [0. 0.]]\n",
            "********************\n",
            "[[7 7 7]\n",
            " [7 7 7]\n",
            " [7 7 7]]\n"
          ]
        }
      ]
    },
    {
      "cell_type": "markdown",
      "source": [
        "3. Create a 2D array of shape (3, 3) with numbers from 1 to 9.\n",
        "\n"
      ],
      "metadata": {
        "id": "qVivHquMu9q7"
      }
    },
    {
      "cell_type": "code",
      "source": [
        "arr = np.arange(1, 10).reshape(3, 3)\n",
        "\n",
        "print(arr)"
      ],
      "metadata": {
        "colab": {
          "base_uri": "https://localhost:8080/"
        },
        "id": "htVI8O82uF9U",
        "outputId": "ea0e2fca-53c2-4436-dbe8-fd13bd426570"
      },
      "execution_count": 10,
      "outputs": [
        {
          "output_type": "stream",
          "name": "stdout",
          "text": [
            "[[1 2 3]\n",
            " [4 5 6]\n",
            " [7 8 9]]\n"
          ]
        }
      ]
    },
    {
      "cell_type": "markdown",
      "source": [
        "4. Extract the first 3 elements from a 1D array.\n"
      ],
      "metadata": {
        "id": "vocxDBvbv4rd"
      }
    },
    {
      "cell_type": "code",
      "source": [
        "arr1 = np.arange(10)\n",
        "print(arr1)\n",
        "\n",
        "first_three = arr1[:3]\n",
        "print(first_three)"
      ],
      "metadata": {
        "colab": {
          "base_uri": "https://localhost:8080/"
        },
        "id": "_o9gtFsIvWkb",
        "outputId": "5682d16f-8905-444a-f3b9-a98bc5731737"
      },
      "execution_count": 13,
      "outputs": [
        {
          "output_type": "stream",
          "name": "stdout",
          "text": [
            "[0 1 2 3 4 5 6 7 8 9]\n",
            "[0 1 2]\n"
          ]
        }
      ]
    },
    {
      "cell_type": "markdown",
      "source": [
        "5. Given an array [10, 20, 30, 40, 50], access the last two elements.\n",
        "\n"
      ],
      "metadata": {
        "id": "5uc6K_F1wiaY"
      }
    },
    {
      "cell_type": "code",
      "source": [
        "arr = [10, 20, 30, 40, 50]\n",
        "\n",
        "last_two = arr[-2:]\n",
        "print(last_two)"
      ],
      "metadata": {
        "colab": {
          "base_uri": "https://localhost:8080/"
        },
        "id": "JpKm9XKVwfWx",
        "outputId": "3a495204-6318-4efb-f089-f8f412f5a008"
      },
      "execution_count": 15,
      "outputs": [
        {
          "output_type": "stream",
          "name": "stdout",
          "text": [
            "[40, 50]\n"
          ]
        }
      ]
    },
    {
      "cell_type": "markdown",
      "source": [
        "6.   Slice the 2D array below to extract only the first two rows:\n",
        "\n",
        "arr = np.array([[1,2,3],[4,5,6],[7,8,9]])"
      ],
      "metadata": {
        "id": "cBUgCU2vxA_H"
      }
    },
    {
      "cell_type": "code",
      "source": [
        "arr = np.array([[1,2,3],[4,5,6],[7,8,9]])\n",
        "\n",
        "first_two_rows = arr[:2, :]\n",
        "print(first_two_rows)"
      ],
      "metadata": {
        "colab": {
          "base_uri": "https://localhost:8080/"
        },
        "id": "mAttLJUaxH8p",
        "outputId": "5b078a41-9bc2-4a1d-867e-edbb926911cd"
      },
      "execution_count": 16,
      "outputs": [
        {
          "output_type": "stream",
          "name": "stdout",
          "text": [
            "[[1 2 3]\n",
            " [4 5 6]]\n"
          ]
        }
      ]
    },
    {
      "cell_type": "markdown",
      "source": [
        "7. Reshape a 1D array of 12 elements into a 3x4 2D array.\n",
        "\n"
      ],
      "metadata": {
        "id": "lU--G4xrxvhT"
      }
    },
    {
      "cell_type": "code",
      "source": [
        "arr1 = np.arange(1, 13)\n",
        "\n",
        "arr2 = arr1.reshape(3, 4)\n",
        "\n",
        "print(arr2)"
      ],
      "metadata": {
        "colab": {
          "base_uri": "https://localhost:8080/"
        },
        "id": "NH0OkS25xrWo",
        "outputId": "0bec743e-9171-4bea-f64a-e63607a32c53"
      },
      "execution_count": 19,
      "outputs": [
        {
          "output_type": "stream",
          "name": "stdout",
          "text": [
            "[[ 1  2  3  4]\n",
            " [ 5  6  7  8]\n",
            " [ 9 10 11 12]]\n"
          ]
        }
      ]
    },
    {
      "cell_type": "markdown",
      "source": [
        "## Mid Level"
      ],
      "metadata": {
        "id": "P5xiLsZYylj-"
      }
    },
    {
      "cell_type": "markdown",
      "source": [
        "(Apply indexing, slicing, reshaping in problem-solving)"
      ],
      "metadata": {
        "id": "U1G2Dmn-yuXu"
      }
    },
    {
      "cell_type": "markdown",
      "source": [
        "1. Create an array of even numbers from 2 to 20.\n",
        "\n",
        "\n"
      ],
      "metadata": {
        "id": "5yxt3otUypv-"
      }
    },
    {
      "cell_type": "code",
      "source": [
        "arr = np.arange(2, 21, 2)\n",
        "print(arr)\n"
      ],
      "metadata": {
        "colab": {
          "base_uri": "https://localhost:8080/"
        },
        "id": "ldNeL7aOypFp",
        "outputId": "a4c9d7d7-d78a-4e3b-f193-f12c303f90a8"
      },
      "execution_count": 25,
      "outputs": [
        {
          "output_type": "stream",
          "name": "stdout",
          "text": [
            "[ 2  4  6  8 10 12 14 16 18 20]\n"
          ]
        }
      ]
    },
    {
      "cell_type": "markdown",
      "source": [
        "2. Generate a 4x4 identity matrix using NumPy.\n",
        "\n"
      ],
      "metadata": {
        "id": "ufXnkMVzz3vO"
      }
    },
    {
      "cell_type": "code",
      "source": [
        "iden = np.identity(4)\n",
        "print(iden)"
      ],
      "metadata": {
        "colab": {
          "base_uri": "https://localhost:8080/"
        },
        "id": "7Nf88tf9zLMO",
        "outputId": "a1b14984-c89e-49d5-af8f-bcdee4d6af9e"
      },
      "execution_count": 26,
      "outputs": [
        {
          "output_type": "stream",
          "name": "stdout",
          "text": [
            "[[1. 0. 0. 0.]\n",
            " [0. 1. 0. 0.]\n",
            " [0. 0. 1. 0.]\n",
            " [0. 0. 0. 1.]]\n"
          ]
        }
      ]
    },
    {
      "cell_type": "code",
      "source": [
        "iden = np.eye(4)\n",
        "print(iden)"
      ],
      "metadata": {
        "colab": {
          "base_uri": "https://localhost:8080/"
        },
        "id": "kOucuCfk0TEu",
        "outputId": "6aeb0529-c97c-42d2-b8db-df50aeed0cf2"
      },
      "execution_count": 29,
      "outputs": [
        {
          "output_type": "stream",
          "name": "stdout",
          "text": [
            "[[1. 0. 0. 0.]\n",
            " [0. 1. 0. 0.]\n",
            " [0. 0. 1. 0.]\n",
            " [0. 0. 0. 1.]]\n"
          ]
        }
      ]
    },
    {
      "cell_type": "markdown",
      "source": [
        "3. Create a 3x3 matrix with random integers between 1 and 20. Find the max, min, and their indices.\n",
        "\n"
      ],
      "metadata": {
        "id": "UFcXb3Oz0im1"
      }
    },
    {
      "cell_type": "code",
      "source": [
        "arr = np.random.randint(1, 21, (3, 3))\n",
        "print(arr)\n",
        "\n",
        "\n",
        "maxx = arr.max()\n",
        "minn = arr.min()\n",
        "\n",
        "max_ind = np.unravel_index(arr.argmax(), arr.shape)\n",
        "min_ind = np.unravel_index(arr.argmin(), arr.shape)\n",
        "\n",
        "print(f\"Maximum Value: {maxx} at index {max_ind}\")\n",
        "print(f\"Minimum Value: {minn} at index {min_ind}\")\n",
        "\n",
        "# 🔹 Find ALL indices of max and min values\n",
        "max_indices = np.argwhere(arr == maxx)\n",
        "min_indices = np.argwhere(arr == minn)\n",
        "\n",
        "print(f\"All indices of Maximum Value {maxx}: {max_indices}\")\n",
        "print(f\"All indices of Minimum Value {minn}: {min_indices}\")"
      ],
      "metadata": {
        "colab": {
          "base_uri": "https://localhost:8080/"
        },
        "id": "cCgxnAhu0a9d",
        "outputId": "d93bd87e-1517-48f9-a278-7a05fd0c63f2"
      },
      "execution_count": 56,
      "outputs": [
        {
          "output_type": "stream",
          "name": "stdout",
          "text": [
            "[[11  7 15]\n",
            " [10  8 11]\n",
            " [15 18  7]]\n",
            "Maximum Value: 18 at index (np.int64(2), np.int64(1))\n",
            "Minimum Value: 7 at index (np.int64(0), np.int64(1))\n",
            "All indices of Maximum Value 18: [[2 1]]\n",
            "All indices of Minimum Value 7: [[0 1]\n",
            " [2 2]]\n"
          ]
        }
      ]
    },
    {
      "cell_type": "markdown",
      "source": [
        "4. Replace all odd numbers in a NumPy array with -1.\n",
        "\n"
      ],
      "metadata": {
        "id": "83aVEmWy5uiI"
      }
    },
    {
      "cell_type": "code",
      "source": [
        "arr = np.array([1, 2, 3, 4, 5, 6, 7, 8, 9])\n",
        "print(\"Original Array:\", arr)\n",
        "\n",
        "arr[arr % 2 != 0] = -1\n",
        "print(\"Modified Array:\", arr)"
      ],
      "metadata": {
        "colab": {
          "base_uri": "https://localhost:8080/"
        },
        "id": "SqGBLPk75z1o",
        "outputId": "43bbc53e-77f8-4ef0-b83b-1ab210358cde"
      },
      "execution_count": 60,
      "outputs": [
        {
          "output_type": "stream",
          "name": "stdout",
          "text": [
            "Original Array: [1 2 3 4 5 6 7 8 9]\n",
            "Modified Array: [-1  2 -1  4 -1  6 -1  8 -1]\n"
          ]
        }
      ]
    },
    {
      "cell_type": "markdown",
      "source": [
        "5. Given a 1D array of 25 numbers, reshape it into a 5x5 matrix and extract the 2nd row.\n",
        "\n"
      ],
      "metadata": {
        "id": "vw5XVvKY8yXb"
      }
    },
    {
      "cell_type": "code",
      "source": [
        "arr = np.arange(25)\n",
        "\n",
        "arr1 = arr.reshape(5, 5)\n",
        "\n",
        "sec = arr1[1]\n",
        "\n",
        "print(sec)"
      ],
      "metadata": {
        "colab": {
          "base_uri": "https://localhost:8080/"
        },
        "id": "WGI54V_h6QH4",
        "outputId": "e0f8be3c-5182-4625-f3e1-5545d1d11305"
      },
      "execution_count": 66,
      "outputs": [
        {
          "output_type": "stream",
          "name": "stdout",
          "text": [
            "[5 6 7 8 9]\n"
          ]
        }
      ]
    },
    {
      "cell_type": "markdown",
      "source": [
        "6. Stack two arrays vertically and horizontally:\n",
        "\n",
        "a = np.array([1,2,3])\n",
        "b = np.array([4,5,6])\n",
        "\n"
      ],
      "metadata": {
        "id": "rXPoze8G92rr"
      }
    },
    {
      "cell_type": "code",
      "source": [
        "a = np.array([1,2,3])\n",
        "b = np.array([4,5,6])\n",
        "\n",
        "v_stack = np.vstack((a, b))\n",
        "h_stack = np.hstack((a, b))\n",
        "\n",
        "print(\"Vertical Stack:\\n\", v_stack)\n",
        "print(\"Horizontal Stack:\\n\", h_stack)"
      ],
      "metadata": {
        "colab": {
          "base_uri": "https://localhost:8080/"
        },
        "id": "MVheGzyn-Agw",
        "outputId": "0209ac7a-09a4-4a62-fe38-f20fd0871e5d"
      },
      "execution_count": 67,
      "outputs": [
        {
          "output_type": "stream",
          "name": "stdout",
          "text": [
            "Vertical Stack:\n",
            " [[1 2 3]\n",
            " [4 5 6]]\n",
            "Horizontal Stack:\n",
            " [1 2 3 4 5 6]\n"
          ]
        }
      ]
    },
    {
      "cell_type": "markdown",
      "source": [
        "7. Flatten a 2D array into a 1D array.\n"
      ],
      "metadata": {
        "id": "S1hPliBU-oQk"
      }
    },
    {
      "cell_type": "code",
      "source": [
        "import numpy as np\n",
        "\n",
        "# Create a 2D array\n",
        "arr = np.array([[1, 2, 3],\n",
        "                [4, 5, 6]])\n",
        "\n",
        "# Flatten the array\n",
        "flat1 = arr.flatten()   # returns a copy\n",
        "flat2 = arr.ravel()     # returns a view (more memory efficient)\n",
        "\n",
        "print(\"Original 2D Array:\\n\", arr)\n",
        "print(\"Flattened with flatten():\", flat1)\n",
        "print(\"Flattened with ravel():\", flat2)\n"
      ],
      "metadata": {
        "colab": {
          "base_uri": "https://localhost:8080/"
        },
        "id": "UGMmR-Mw-qJE",
        "outputId": "195defbb-dd31-4685-f5e5-6268ad7c8d25"
      },
      "execution_count": 68,
      "outputs": [
        {
          "output_type": "stream",
          "name": "stdout",
          "text": [
            "Original 2D Array:\n",
            " [[1 2 3]\n",
            " [4 5 6]]\n",
            "Flattened with flatten(): [1 2 3 4 5 6]\n",
            "Flattened with ravel(): [1 2 3 4 5 6]\n"
          ]
        }
      ]
    },
    {
      "cell_type": "markdown",
      "source": [
        "## Advanced Level"
      ],
      "metadata": {
        "id": "XpRypXRj_gxO"
      }
    },
    {
      "cell_type": "markdown",
      "source": [
        "(More complex reshaping, fancy indexing, boolean masking)"
      ],
      "metadata": {
        "id": "tA2Nzpk-_i6z"
      }
    },
    {
      "cell_type": "markdown",
      "source": [
        "1. Create a 5x5 matrix of random numbers and extract the diagonal elements.\n",
        "\n",
        "\n"
      ],
      "metadata": {
        "id": "Eds00t76_k8R"
      }
    },
    {
      "cell_type": "code",
      "source": [
        "import numpy as np\n",
        "\n",
        "# Create a 5x5 random matrix (numbers 1–100 for clarity)\n",
        "arr = np.random.randint(1, 101, size=(5, 5))\n",
        "\n",
        "# Extract diagonal elements\n",
        "diag = np.diag(arr)\n",
        "\n",
        "print(\"5x5 Random Matrix:\\n\", arr)\n",
        "print(\"Diagonal Elements:\", diag)"
      ],
      "metadata": {
        "colab": {
          "base_uri": "https://localhost:8080/"
        },
        "id": "4wEnIfEe_icS",
        "outputId": "3408cdf8-6a2e-4c44-f12f-acec6b84eda7"
      },
      "execution_count": 69,
      "outputs": [
        {
          "output_type": "stream",
          "name": "stdout",
          "text": [
            "5x5 Random Matrix:\n",
            " [[95 49 40 13 21]\n",
            " [73 64 90 67 91]\n",
            " [50 47 88  3 17]\n",
            " [70 36 10 44 73]\n",
            " [68 98 67 42 46]]\n",
            "Diagonal Elements: [95 64 88 44 46]\n"
          ]
        }
      ]
    },
    {
      "cell_type": "markdown",
      "source": [
        "2. Given a 4x4 matrix, replace the second column with all 0s.\n",
        "\n"
      ],
      "metadata": {
        "id": "kjq1NBMdAOIB"
      }
    },
    {
      "cell_type": "code",
      "source": [
        "import numpy as np\n",
        "\n",
        "# Create a 4x4 matrix\n",
        "arr = np.arange(1, 17).reshape(4, 4)\n",
        "\n",
        "print(\"Original Matrix:\\n\", arr)\n",
        "\n",
        "# Replace second column (index 1) with 0s\n",
        "arr[:, 1] = 0\n",
        "\n",
        "print(\"\\nModified Matrix:\\n\", arr)"
      ],
      "metadata": {
        "colab": {
          "base_uri": "https://localhost:8080/"
        },
        "id": "D1E4idQ9ARCC",
        "outputId": "0282aece-b417-4587-c70e-c253e988478e"
      },
      "execution_count": 70,
      "outputs": [
        {
          "output_type": "stream",
          "name": "stdout",
          "text": [
            "Original Matrix:\n",
            " [[ 1  2  3  4]\n",
            " [ 5  6  7  8]\n",
            " [ 9 10 11 12]\n",
            " [13 14 15 16]]\n",
            "\n",
            "Modified Matrix:\n",
            " [[ 1  0  3  4]\n",
            " [ 5  0  7  8]\n",
            " [ 9  0 11 12]\n",
            " [13  0 15 16]]\n"
          ]
        }
      ]
    },
    {
      "cell_type": "markdown",
      "source": [
        "3. Create a 10x10 matrix with values from 1 to 100, then extract all even numbers using boolean indexing.\n",
        "\n"
      ],
      "metadata": {
        "id": "6VXikl_7AgIi"
      }
    },
    {
      "cell_type": "code",
      "source": [
        "import numpy as np\n",
        "\n",
        "# Create 10x10 matrix with values 1 to 100\n",
        "arr = np.arange(1, 101).reshape(10, 10)\n",
        "\n",
        "print(\"Original 10x10 Matrix:\\n\", arr)\n",
        "\n",
        "# Extract even numbers using boolean indexing\n",
        "even_numbers = arr[arr % 2 == 0]\n",
        "\n",
        "print(\"\\nEven Numbers:\\n\", even_numbers)"
      ],
      "metadata": {
        "colab": {
          "base_uri": "https://localhost:8080/"
        },
        "id": "lEGeAF69AfZA",
        "outputId": "969236a6-910f-402d-edf4-14ef40a8e099"
      },
      "execution_count": 71,
      "outputs": [
        {
          "output_type": "stream",
          "name": "stdout",
          "text": [
            "Original 10x10 Matrix:\n",
            " [[  1   2   3   4   5   6   7   8   9  10]\n",
            " [ 11  12  13  14  15  16  17  18  19  20]\n",
            " [ 21  22  23  24  25  26  27  28  29  30]\n",
            " [ 31  32  33  34  35  36  37  38  39  40]\n",
            " [ 41  42  43  44  45  46  47  48  49  50]\n",
            " [ 51  52  53  54  55  56  57  58  59  60]\n",
            " [ 61  62  63  64  65  66  67  68  69  70]\n",
            " [ 71  72  73  74  75  76  77  78  79  80]\n",
            " [ 81  82  83  84  85  86  87  88  89  90]\n",
            " [ 91  92  93  94  95  96  97  98  99 100]]\n",
            "\n",
            "Even Numbers:\n",
            " [  2   4   6   8  10  12  14  16  18  20  22  24  26  28  30  32  34  36\n",
            "  38  40  42  44  46  48  50  52  54  56  58  60  62  64  66  68  70  72\n",
            "  74  76  78  80  82  84  86  88  90  92  94  96  98 100]\n"
          ]
        }
      ]
    },
    {
      "cell_type": "markdown",
      "source": [
        "4. Given:\n",
        "\n",
        "arr = np.arange(1, 17).reshape(4,4)\n",
        "\n",
        "Extract the sub-matrix:\n",
        "\n",
        "[[6,7],\n",
        " [10,11]]\n",
        "\n"
      ],
      "metadata": {
        "id": "ie3MnR61A7uw"
      }
    },
    {
      "cell_type": "code",
      "source": [
        "import numpy as np\n",
        "\n",
        "arr = np.arange(1, 17).reshape(4, 4)\n",
        "print(arr)"
      ],
      "metadata": {
        "colab": {
          "base_uri": "https://localhost:8080/"
        },
        "id": "Y8l5YlzvBGiD",
        "outputId": "15a35ab5-5c00-4f02-c097-a3e8401112a6"
      },
      "execution_count": 72,
      "outputs": [
        {
          "output_type": "stream",
          "name": "stdout",
          "text": [
            "[[ 1  2  3  4]\n",
            " [ 5  6  7  8]\n",
            " [ 9 10 11 12]\n",
            " [13 14 15 16]]\n"
          ]
        }
      ]
    },
    {
      "cell_type": "code",
      "source": [
        "sub_matrix = arr[1:3, 1:3]\n",
        "print(sub_matrix)"
      ],
      "metadata": {
        "colab": {
          "base_uri": "https://localhost:8080/"
        },
        "id": "yOtU5qVbBM65",
        "outputId": "f1b84d91-ef20-4076-e2e4-1d9fbd20bf55"
      },
      "execution_count": 73,
      "outputs": [
        {
          "output_type": "stream",
          "name": "stdout",
          "text": [
            "[[ 6  7]\n",
            " [10 11]]\n"
          ]
        }
      ]
    },
    {
      "cell_type": "markdown",
      "source": [
        "5. Create a 6x6 array and reshape it into a 3D array of shape (2,3,6).\n",
        "\n"
      ],
      "metadata": {
        "id": "hFL_BmdzBVif"
      }
    },
    {
      "cell_type": "code",
      "source": [
        "import numpy as np\n",
        "\n",
        "# Step 1: Create a 6x6 array\n",
        "arr = np.arange(1, 37).reshape(6, 6)\n",
        "print(\"6x6 Array:\\n\", arr)\n",
        "\n",
        "# Step 2: Reshape into 3D array (2, 3, 6)\n",
        "arr_3d = arr.reshape(2, 3, 6)\n",
        "print(\"\\nReshaped 3D Array (2,3,6):\\n\", arr_3d)"
      ],
      "metadata": {
        "colab": {
          "base_uri": "https://localhost:8080/"
        },
        "id": "MsMwhQjLBX6g",
        "outputId": "0a162906-be17-4094-fe3b-037caba5a5c8"
      },
      "execution_count": 74,
      "outputs": [
        {
          "output_type": "stream",
          "name": "stdout",
          "text": [
            "6x6 Array:\n",
            " [[ 1  2  3  4  5  6]\n",
            " [ 7  8  9 10 11 12]\n",
            " [13 14 15 16 17 18]\n",
            " [19 20 21 22 23 24]\n",
            " [25 26 27 28 29 30]\n",
            " [31 32 33 34 35 36]]\n",
            "\n",
            "Reshaped 3D Array (2,3,6):\n",
            " [[[ 1  2  3  4  5  6]\n",
            "  [ 7  8  9 10 11 12]\n",
            "  [13 14 15 16 17 18]]\n",
            "\n",
            " [[19 20 21 22 23 24]\n",
            "  [25 26 27 28 29 30]\n",
            "  [31 32 33 34 35 36]]]\n"
          ]
        }
      ]
    },
    {
      "cell_type": "markdown",
      "source": [
        "6. Use advanced indexing to pick elements at positions (0,0), (1,1), (2,2), (3,3) from a 2D array.\n",
        "\n"
      ],
      "metadata": {
        "id": "6ayMTtjoBg34"
      }
    },
    {
      "cell_type": "code",
      "source": [
        "import numpy as np\n",
        "\n",
        "# Create a 4x4 array\n",
        "arr = np.arange(1, 17).reshape(4, 4)\n",
        "print(\"Original Array:\\n\", arr)\n",
        "\n",
        "# Advanced indexing: pick elements at (0,0), (1,1), (2,2), (3,3)\n",
        "rows = [0, 1, 2, 3]\n",
        "cols = [0, 1, 2, 3]\n",
        "\n",
        "picked = arr[rows, cols]\n",
        "print(\"\\nPicked Elements:\", picked)"
      ],
      "metadata": {
        "colab": {
          "base_uri": "https://localhost:8080/"
        },
        "id": "f8cbQVtyBj-h",
        "outputId": "449f3943-3fcd-4032-c6c4-5eed38fb77f7"
      },
      "execution_count": 75,
      "outputs": [
        {
          "output_type": "stream",
          "name": "stdout",
          "text": [
            "Original Array:\n",
            " [[ 1  2  3  4]\n",
            " [ 5  6  7  8]\n",
            " [ 9 10 11 12]\n",
            " [13 14 15 16]]\n",
            "\n",
            "Picked Elements: [ 1  6 11 16]\n"
          ]
        }
      ]
    },
    {
      "cell_type": "markdown",
      "source": [
        "7. Create a random array of size 20 and sort it in ascending and descending order.\n",
        "\n"
      ],
      "metadata": {
        "id": "GCoTSqSABpVg"
      }
    },
    {
      "cell_type": "code",
      "source": [
        "import numpy as np\n",
        "\n",
        "# Create a random array of size 20 with integers between 1 and 100\n",
        "arr = np.random.randint(1, 101, 20)\n",
        "print(\"Original Array:\\n\", arr)\n",
        "\n",
        "# Sort in ascending order\n",
        "asc = np.sort(arr)\n",
        "print(\"\\nAscending Order:\\n\", asc)\n",
        "\n",
        "# Sort in descending order\n",
        "desc = np.sort(arr)[::-1]\n",
        "print(\"\\nDescending Order:\\n\", desc)"
      ],
      "metadata": {
        "colab": {
          "base_uri": "https://localhost:8080/"
        },
        "id": "qhUy0pcEBtL4",
        "outputId": "2d05f22c-4932-4672-a3d2-ac1b5262899e"
      },
      "execution_count": 76,
      "outputs": [
        {
          "output_type": "stream",
          "name": "stdout",
          "text": [
            "Original Array:\n",
            " [69 56 91 35 12 29 29 20 71 74 46 30 68 21 79 88 73 60 44 76]\n",
            "\n",
            "Ascending Order:\n",
            " [12 20 21 29 29 30 35 44 46 56 60 68 69 71 73 74 76 79 88 91]\n",
            "\n",
            "Descending Order:\n",
            " [91 88 79 76 74 73 71 69 68 60 56 46 44 35 30 29 29 21 20 12]\n"
          ]
        }
      ]
    }
  ]
}
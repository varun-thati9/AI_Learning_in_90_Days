{
  "nbformat": 4,
  "nbformat_minor": 0,
  "metadata": {
    "colab": {
      "provenance": [],
      "collapsed_sections": [
        "-MPldA0c9Xmj",
        "NKpQgwueT9Ey"
      ]
    },
    "kernelspec": {
      "name": "python3",
      "display_name": "Python 3"
    },
    "language_info": {
      "name": "python"
    }
  },
  "cells": [
    {
      "cell_type": "markdown",
      "source": [
        "# **Python OOP – Classes & Objects**"
      ],
      "metadata": {
        "id": "fBGUvBkb9KgW"
      }
    },
    {
      "cell_type": "markdown",
      "source": [
        "### BASIC LEVEL\n",
        "(Understand syntax & object creation)"
      ],
      "metadata": {
        "id": "-MPldA0c9Xmj"
      }
    },
    {
      "cell_type": "markdown",
      "source": [
        "\n",
        "\n",
        "1.   Create a class Car with attributes: brand, model, and year. Create an object and print its attributes.\n",
        "\n",
        "\n"
      ],
      "metadata": {
        "id": "80oGoE1W9okR"
      }
    },
    {
      "cell_type": "code",
      "execution_count": 1,
      "metadata": {
        "colab": {
          "base_uri": "https://localhost:8080/"
        },
        "id": "nirTQtHt69BZ",
        "outputId": "3e6cad49-bb63-4f0f-c64a-f8c21257b123"
      },
      "outputs": [
        {
          "output_type": "stream",
          "name": "stdout",
          "text": [
            "Brand:  Suzuki\n",
            "Model:  Ignis\n",
            "Year:  2022\n"
          ]
        }
      ],
      "source": [
        "class Car:\n",
        "  def __init__(self, brand, model, year):\n",
        "    self.brand = brand\n",
        "    self.model = model\n",
        "    self.year = year\n",
        "\n",
        "my_car = Car(\"Suzuki\", \"Ignis\", '2022')\n",
        "\n",
        "print(\"Brand: \", my_car.brand)\n",
        "print(\"Model: \", my_car.model)\n",
        "print(\"Year: \", my_car.year)"
      ]
    },
    {
      "cell_type": "code",
      "source": [
        "def display_info(self):\n",
        "  print(f\"Car brand is {self.brand}, it's model is {self.model} and it has modified in the year {self.year}.\")"
      ],
      "metadata": {
        "id": "wp7tAfIw-9eH"
      },
      "execution_count": 2,
      "outputs": []
    },
    {
      "cell_type": "code",
      "source": [
        "display_info(my_car)"
      ],
      "metadata": {
        "colab": {
          "base_uri": "https://localhost:8080/"
        },
        "id": "o2WxcSOt_Kg1",
        "outputId": "e1cec4ea-5170-4e00-f979-ac90dde0b56b"
      },
      "execution_count": 3,
      "outputs": [
        {
          "output_type": "stream",
          "name": "stdout",
          "text": [
            "Car brand is Suzuki, it's model is Ignis and it has modified in the year 2022.\n"
          ]
        }
      ]
    },
    {
      "cell_type": "markdown",
      "source": [
        "2. Create a class Person with attributes name and age, and a method introduce() that prints a self-introduction.\n",
        "\n"
      ],
      "metadata": {
        "id": "dar_BzlH_kVi"
      }
    },
    {
      "cell_type": "code",
      "source": [
        "class Person:\n",
        "  def __init__(self, name, age):\n",
        "    self.name = name\n",
        "    self.age = age\n",
        "\n",
        "  def introduce(self):\n",
        "    print(f\"Hi, my name is {self.name} and I am {self.age} years old\")\n",
        "\n",
        "person1 = Person('Tarun', 26)\n",
        "person2 = Person('Varun', 26)\n",
        "\n",
        "\n",
        "person1.introduce()\n",
        "person2.introduce()"
      ],
      "metadata": {
        "colab": {
          "base_uri": "https://localhost:8080/"
        },
        "id": "9R_7Pxsp_pcR",
        "outputId": "680f08ee-7e7c-46ec-fb33-eb47297ffac1"
      },
      "execution_count": 4,
      "outputs": [
        {
          "output_type": "stream",
          "name": "stdout",
          "text": [
            "Hi, my name is Tarun and I am 26 years old\n",
            "Hi, my name is Varun and I am 26 years old\n"
          ]
        }
      ]
    },
    {
      "cell_type": "markdown",
      "source": [
        "3. Define a class Rectangle with attributes length and width. Add a method to calculate the area. Create an object and print the area.\n",
        "\n"
      ],
      "metadata": {
        "id": "4ptoJF-pCrky"
      }
    },
    {
      "cell_type": "code",
      "source": [
        "class Rectangle:\n",
        "  def __init__(self, length, width):\n",
        "    self.length = length\n",
        "    self.width = width\n",
        "\n",
        "  def calculate(self):\n",
        "    return(self.length * self.width)\n",
        "\n",
        "rectangle = Rectangle(20, 20)\n",
        "\n",
        "print(f\"Area of this rectangle : {rectangle.calculate()}\")"
      ],
      "metadata": {
        "colab": {
          "base_uri": "https://localhost:8080/"
        },
        "id": "Vb0yB6EaAvvJ",
        "outputId": "342c1e72-e29c-40f7-c33b-fb75cb9fac83"
      },
      "execution_count": 5,
      "outputs": [
        {
          "output_type": "stream",
          "name": "stdout",
          "text": [
            "Area of this rectangle : 400\n"
          ]
        }
      ]
    },
    {
      "cell_type": "markdown",
      "source": [
        "4. Create a class Book with attributes title and author. Write a method details() that prints the book’s details.\n",
        "\n"
      ],
      "metadata": {
        "id": "aO56GO4JEexA"
      }
    },
    {
      "cell_type": "code",
      "source": [
        "class Book:\n",
        "  def __init__(self, title, author):\n",
        "    self.title = title\n",
        "    self.author = author\n",
        "\n",
        "  def details(self):\n",
        "    print(f\"Title of the book I am reading now is {self.title} and author(s) are {self.author}\")\n",
        "\n",
        "\n",
        "book1 = Book('Deep Learning', 'Ian Goodfellow, Yoshua Bengio and Aaron Courville')\n",
        "\n",
        "book1.details()"
      ],
      "metadata": {
        "colab": {
          "base_uri": "https://localhost:8080/"
        },
        "id": "t_IpnYUlEkGu",
        "outputId": "97824267-a39e-446a-f847-ed1cfd459faf"
      },
      "execution_count": 6,
      "outputs": [
        {
          "output_type": "stream",
          "name": "stdout",
          "text": [
            "Title of the book I am reading now is Deep Learning and author(s) are Ian Goodfellow, Yoshua Bengio and Aaron Courville\n"
          ]
        }
      ]
    },
    {
      "cell_type": "code",
      "source": [
        "class Book:\n",
        "    def __init__(self, title, author):\n",
        "        self.title = title\n",
        "        self.author = author\n",
        "\n",
        "    def details(self):\n",
        "        print(f\"Title: {self.title}\")\n",
        "        print(f\"Author(s): {self.author}\")\n",
        "\n",
        "book1 = Book(\"Deep Learning\", \"Ian Goodfellow, Yoshua Bengio, Aaron Courville\")\n",
        "book1.details()"
      ],
      "metadata": {
        "colab": {
          "base_uri": "https://localhost:8080/"
        },
        "id": "GnXiZC6ITi9A",
        "outputId": "30959706-0a03-4823-c96a-481094d7b711"
      },
      "execution_count": 7,
      "outputs": [
        {
          "output_type": "stream",
          "name": "stdout",
          "text": [
            "Title: Deep Learning\n",
            "Author(s): Ian Goodfellow, Yoshua Bengio, Aaron Courville\n"
          ]
        }
      ]
    },
    {
      "cell_type": "markdown",
      "source": [
        "5. Create a class Dog with attribute name and a method bark() that prints \"<name> is barking!\".\n",
        "\n"
      ],
      "metadata": {
        "id": "ZajwK8nfSKRd"
      }
    },
    {
      "cell_type": "code",
      "source": [
        "class Dog:\n",
        "  def __init__(self, name):\n",
        "    self.name = name\n",
        "\n",
        "  def bark(self):\n",
        "    print(f\"{self.name} is barking\")\n",
        "\n",
        "dog1 = Dog(\"Mars\")\n",
        "\n",
        "dog1.bark()"
      ],
      "metadata": {
        "colab": {
          "base_uri": "https://localhost:8080/"
        },
        "id": "gJZS8f70SR_m",
        "outputId": "fc88032b-8cbb-40d5-c40e-8b6961029a53"
      },
      "execution_count": 8,
      "outputs": [
        {
          "output_type": "stream",
          "name": "stdout",
          "text": [
            "Mars is barking\n"
          ]
        }
      ]
    },
    {
      "cell_type": "markdown",
      "source": [
        "## MID LEVEL"
      ],
      "metadata": {
        "id": "NKpQgwueT9Ey"
      }
    },
    {
      "cell_type": "markdown",
      "source": [
        "(Building logic with methods, constructors & multiple objects)"
      ],
      "metadata": {
        "id": "IwFxs_gUUh1C"
      }
    },
    {
      "cell_type": "markdown",
      "source": [
        "1. Create a class BankAccount with attributes account_number, holder_name, and balance.\n",
        "\n",
        "\n",
        "* Add methods: deposit(amount), withdraw(amount), and display_balance().\n",
        "* Test with multiple objects.\n",
        "\n",
        "\n"
      ],
      "metadata": {
        "id": "KcDrZr4jUT6i"
      }
    },
    {
      "cell_type": "code",
      "source": [
        "class BankAccount:\n",
        "  def __init__(self, account_number, holder_name, balance):\n",
        "    self.account_number = account_number\n",
        "    self.holder_name = holder_name\n",
        "    self.balance = balance\n",
        "\n",
        "  def deposit(self, amount):\n",
        "    if amount > 0:\n",
        "      self.balance += amount\n",
        "      print(f\"Deposited Rupees {amount}. New balance: {self.balance}\")\n",
        "    else:\n",
        "      print(\"Deposit amount must be Positive\")\n",
        "\n",
        "  def withdraw(self, amount):\n",
        "    if amount <= self.balance:\n",
        "      self.balance -= amount\n",
        "      print(f\"Withdrew {amount}, new balance is {self.balance}\")\n",
        "    else:\n",
        "      print(\"Insufficient Balance\")\n",
        "\n",
        "  def display_balance(self):\n",
        "    print(f\"Account {self.account_number} ({self.holder_name}) - Balance: ₹{self.balance}\")\n",
        "\n",
        "\n",
        "acc1 = BankAccount(101, \"Varun\", 5000)\n",
        "acc2 = BankAccount(102, \"Tarun\", 2000)\n",
        "\n",
        "\n",
        "acc1.deposit(2000)\n",
        "acc1.withdraw(3000)\n",
        "acc1.display_balance()"
      ],
      "metadata": {
        "colab": {
          "base_uri": "https://localhost:8080/"
        },
        "id": "000mf8ZiUIwr",
        "outputId": "ba7396ba-d916-41a0-ba69-59fd17964615"
      },
      "execution_count": 9,
      "outputs": [
        {
          "output_type": "stream",
          "name": "stdout",
          "text": [
            "Deposited Rupees 2000. New balance: 7000\n",
            "Withdrew 3000, new balance is 4000\n",
            "Account 101 (Varun) - Balance: ₹4000\n"
          ]
        }
      ]
    },
    {
      "cell_type": "markdown",
      "source": [
        "2. Create a class Student with attributes name, marks (list of marks).\n",
        "\n",
        "\n",
        "*   Add a method average() to calculate average marks.\n",
        "*  Add a method result() that prints \"Pass\" if average ≥ 40, otherwise \"Fail\".\n",
        "\n"
      ],
      "metadata": {
        "id": "KPTL0XHC2NOS"
      }
    },
    {
      "cell_type": "code",
      "source": [
        "class Student:\n",
        "  def __init__(self, name, marks):\n",
        "    self.name = name\n",
        "    self.marks = marks\n",
        "\n",
        "  def averg(self):\n",
        "    return sum(self.marks) / len(self.marks)\n",
        "\n",
        "  def result(self):\n",
        "    avrmarks = self.averg()\n",
        "\n",
        "    if avrmarks >= 40:\n",
        "      print('Pass')\n",
        "    else:\n",
        "      print('Fail')\n",
        "\n",
        "\n",
        "\n",
        "std1 = Student('Tarun', [90, 100, 95])\n",
        "std2 = Student('Varun', [40, 35, 25])\n",
        "\n",
        "std1.result()\n",
        "std2.result()"
      ],
      "metadata": {
        "colab": {
          "base_uri": "https://localhost:8080/"
        },
        "id": "j0ITTjr-2Jhr",
        "outputId": "b82a3511-8421-4165-bfc4-59c143451ed9"
      },
      "execution_count": 10,
      "outputs": [
        {
          "output_type": "stream",
          "name": "stdout",
          "text": [
            "Pass\n",
            "Fail\n"
          ]
        }
      ]
    },
    {
      "cell_type": "markdown",
      "source": [
        "3. Create a class Circle with attribute radius.\n",
        "\n",
        "\n",
        "\n",
        "*   Add methods area() and perimeter().\n",
        "\n",
        "*   Take radius input from user and calculate results.\n",
        "\n",
        "\n",
        "\n",
        "\n"
      ],
      "metadata": {
        "id": "0lHcaqzA5e_T"
      }
    },
    {
      "cell_type": "code",
      "source": [
        "class Circle:\n",
        "  def __init__(self, radius):\n",
        "    self.radius = radius\n",
        "\n",
        "  def area(self):\n",
        "    # pi * r ** 2\n",
        "    return (3.14159) * (self.radius)**2\n",
        "\n",
        "  def perimeter(self):\n",
        "    # 2 * pi * r\n",
        "    return 2 * (3.14159) * (self.radius)\n",
        "\n",
        "\n",
        "a = int(input(\"Enter the radius of a circle: \"))\n",
        "circ1 = Circle(a)\n",
        "print(\"Area of a circle is : \", circ1.area())\n",
        "print(\"Perimeter of a circle is : \", circ1.perimeter())"
      ],
      "metadata": {
        "colab": {
          "base_uri": "https://localhost:8080/"
        },
        "id": "oI0I0un44Mxy",
        "outputId": "8f386a64-8eb3-403f-b0b1-f766d584d223"
      },
      "execution_count": 11,
      "outputs": [
        {
          "output_type": "stream",
          "name": "stdout",
          "text": [
            "Enter the radius of a circle: 7\n",
            "Area of a circle is :  153.93791\n",
            "Perimeter of a circle is :  43.98226\n"
          ]
        }
      ]
    },
    {
      "cell_type": "markdown",
      "source": [
        "4. Create a class Employee with attributes name, salary, department.\n",
        "\n",
        "\n",
        "\n",
        "*   Add a method increase_salary(percent) that increases salary by a percentage.\n",
        "\n",
        "\n",
        "\n",
        "*   Create multiple employees and update their salaries.\n",
        "\n"
      ],
      "metadata": {
        "id": "FytTObEY9BRb"
      }
    },
    {
      "cell_type": "code",
      "source": [
        "class Employee:\n",
        "  def __init__(self, name, salary, deptno):\n",
        "    self.name = name\n",
        "    self.salary = salary\n",
        "    self.deptno = deptno\n",
        "\n",
        "  def increase_salary(self, percentage):\n",
        "    return (percentage * self.salary) / 100 + self.salary\n",
        "\n",
        "\n",
        "\n",
        "emp1 = Employee('Tarun', 66008, 112)\n",
        "perc = float(input('Enter percent(%) of hike for this employee: '))\n",
        "\n",
        "print(f\"Before hike, the salary is {emp1.salary}\")\n",
        "print(f\"Updated salary of this employee is {emp1.increase_salary(perc)}\")"
      ],
      "metadata": {
        "colab": {
          "base_uri": "https://localhost:8080/"
        },
        "id": "x5mFKILa8E77",
        "outputId": "196f65ec-caf5-47dc-8303-1f5e4b50ffcd"
      },
      "execution_count": 12,
      "outputs": [
        {
          "output_type": "stream",
          "name": "stdout",
          "text": [
            "Enter percent(%) of hike for this employee: 9.4\n",
            "Before hike, the salary is 66008\n",
            "Updated salary of this employee is 72212.75200000001\n"
          ]
        }
      ]
    },
    {
      "cell_type": "markdown",
      "source": [
        "5. Create a class ShoppingCart.\n",
        "\n",
        "\n",
        "*   Add methods: add_item(item, price), remove_item(item), and total_price().\n",
        "*   Test it with multiple items.\n",
        "\n",
        "\n",
        "\n"
      ],
      "metadata": {
        "id": "1_q0uXCbEQEV"
      }
    },
    {
      "cell_type": "code",
      "source": [
        "class ShoppingCart:\n",
        "  def __init__(self):\n",
        "    self.items = {}\n",
        "\n",
        "  def add_item(self, item, price):\n",
        "    self.items[item] = price\n",
        "    print(f\"Added {item} for ₹{price}\")\n",
        "\n",
        "  def remove_item(self, item):\n",
        "    if item in self.items:\n",
        "      del self.items[item]\n",
        "      print(f\"Removed {item}\")\n",
        "    else:\n",
        "      print(f\"{item} not found in cart\")\n",
        "\n",
        "  def total_price(self):\n",
        "    total = sum(self.items.values())\n",
        "    return total\n",
        "\n",
        "cart = ShoppingCart()\n",
        "cart.add_item(\"Tooth Brush\", 100)\n",
        "cart.add_item(\"Paint Brush\", 150)\n",
        "cart.add_item(\"Dairy Milk Silk\", 300)\n",
        "cart.add_item(\"Snickers\", 70)\n",
        "cart.add_item(\"Apple\", 50)\n",
        "cart.add_item(\"Banana\", 20)\n",
        "cart.add_item(\"Milk\", 40)\n",
        "\n",
        "cart.remove_item(\"Banana\")\n",
        "\n",
        "print(\"Total price in cart: \", cart.total_price())"
      ],
      "metadata": {
        "colab": {
          "base_uri": "https://localhost:8080/"
        },
        "id": "DojGwfjMCLd3",
        "outputId": "dc6daec8-d69c-403c-f742-d2928d0424c1"
      },
      "execution_count": 13,
      "outputs": [
        {
          "output_type": "stream",
          "name": "stdout",
          "text": [
            "Added Tooth Brush for ₹100\n",
            "Added Paint Brush for ₹150\n",
            "Added Dairy Milk Silk for ₹300\n",
            "Added Snickers for ₹70\n",
            "Added Apple for ₹50\n",
            "Added Banana for ₹20\n",
            "Added Milk for ₹40\n",
            "Removed Banana\n",
            "Total price in cart:  710\n"
          ]
        }
      ]
    },
    {
      "cell_type": "markdown",
      "source": [
        "## ADVANCED LEVEL"
      ],
      "metadata": {
        "id": "EkfS7mrrIZMJ"
      }
    },
    {
      "cell_type": "markdown",
      "source": [
        "\n",
        "\n",
        "1.   Encapsulation:\n",
        "Create a class Account with private attribute _balance.\n",
        "\n",
        "\n",
        "*   Add methods deposit() and withdraw().\n",
        "\n",
        "*   Prevent balance from going negative.\n",
        "\n",
        "\n",
        "*   Provide a get_balance() method.\n",
        "\n",
        "\n",
        "\n",
        "\n",
        "\n",
        "\n",
        "\n",
        "\n"
      ],
      "metadata": {
        "id": "yHCXqu87Ihj2"
      }
    },
    {
      "cell_type": "code",
      "source": [
        "class Account:\n",
        "  def __init__(self, initial_balance = 0):\n",
        "    self._balance = initial_balance\n",
        "\n",
        "  def deposit(self, amount):\n",
        "    if amount > 0:\n",
        "      self._balance += amount\n",
        "      print(f\"Deposited {amount}. New balance: {self._balance}\")\n",
        "    else:\n",
        "      print(\"Deposit amount must be positive!\")\n",
        "\n",
        "  def withdraw(self, amount):\n",
        "    if amount <= self._balance:\n",
        "      self._balance -= amount\n",
        "      print(f\"Withdrew {amount}. New balance: {self._balance}\")\n",
        "    else:\n",
        "      print(\"Insufficient balance! Withdrawal denied.\")\n",
        "\n",
        "  def get_balance(self):\n",
        "    return self._balance\n",
        "\n",
        "acc = Account(1000)\n",
        "acc.deposit(500)\n",
        "acc.withdraw(200)\n",
        "acc.withdraw(2000)\n",
        "print(\"Final Balance: \", acc.get_balance())"
      ],
      "metadata": {
        "id": "UTFUJtx7Iypm",
        "colab": {
          "base_uri": "https://localhost:8080/"
        },
        "outputId": "7840c725-b4d0-4914-e47f-634ba1a2f20d"
      },
      "execution_count": 14,
      "outputs": [
        {
          "output_type": "stream",
          "name": "stdout",
          "text": [
            "Deposited 500. New balance: 1500\n",
            "Withdrew 200. New balance: 1300\n",
            "Insufficient balance! Withdrawal denied.\n",
            "Final Balance:  1300\n"
          ]
        }
      ]
    },
    {
      "cell_type": "markdown",
      "source": [
        "2.   Inheritance:\n",
        "Create a base class Vehicle with attributes brand, model.\n",
        "\n",
        "\n",
        "*   Derive Car and Bike classes with extra attributes like seats for Car and cc for Bike.\n",
        "\n",
        "\n",
        "*   Add a method details() to print information."
      ],
      "metadata": {
        "id": "Vwo--Xm_U1Xy"
      }
    },
    {
      "cell_type": "code",
      "source": [
        "class Vehicle:\n",
        "  def __init__(self, brand, model):\n",
        "    self.brand = brand\n",
        "    self.model = model\n",
        "  def details(self):\n",
        "    print(f\"Brand: {self.brand}, Model: {self.model}\")\n",
        "\n",
        "class Car(Vehicle):\n",
        "  def __init__(self, brand, model, seats):\n",
        "    super().__init__(brand, model)\n",
        "    self.seats = seats\n",
        "  def details(self):\n",
        "    print(f\"Car -> Brand: {self.brand}, Model: {self.model}, Seats: {self.seats}\")\n",
        "\n",
        "class Bike(Vehicle):\n",
        "  def __init__(self, brand, model, cc):\n",
        "    super().__init__(brand, model)\n",
        "    self.cc = cc\n",
        "  def details(self):\n",
        "    print(f\"Bike -> Brand: {self.brand}, Model: {self.model}, CC: {self.cc}\")\n",
        "\n",
        "\n",
        "car1 = Car(\"Suzuki\", \"Ignis\", 4)\n",
        "bike1 = Bike(\"Suzuki\", \"Access\", 125)\n",
        "\n",
        "car1.details()\n",
        "bike1.details()"
      ],
      "metadata": {
        "colab": {
          "base_uri": "https://localhost:8080/"
        },
        "id": "_sESN_d-UuBT",
        "outputId": "c36adaf0-e464-4b99-dd97-b92743a41543"
      },
      "execution_count": 15,
      "outputs": [
        {
          "output_type": "stream",
          "name": "stdout",
          "text": [
            "Car -> Brand: Suzuki, Model: Ignis, Seats: 4\n",
            "Bike -> Brand: Suzuki, Model: Access, CC: 125\n"
          ]
        }
      ]
    },
    {
      "cell_type": "markdown",
      "source": [
        "3. Polymorphism:\n",
        "Create classes Dog and Cat, both with a method sound().\n",
        "\n",
        "\n",
        "\n",
        "*   Dog prints \"Woof!\", Cat prints \"Meow!\".\n",
        "*   Demonstrate polymorphism by iterating over objects in a list and calling sound().\n",
        "\n",
        "\n",
        "\n"
      ],
      "metadata": {
        "id": "CVQE2dPYXymh"
      }
    },
    {
      "cell_type": "code",
      "source": [
        "class Dog:\n",
        "  def sound(self):\n",
        "    print(\"Woof!\")\n",
        "\n",
        "class Cat:\n",
        "  def sound(self):\n",
        "    print(\"Meow!\")\n",
        "\n",
        "animals = [Dog(), Cat(), Dog(), Cat()]\n",
        "\n",
        "for animal in animals:\n",
        "  animal.sound()"
      ],
      "metadata": {
        "colab": {
          "base_uri": "https://localhost:8080/"
        },
        "id": "UX6Nw5dyXr1N",
        "outputId": "4eaaee61-d8e8-45a7-97e7-66e68235f228"
      },
      "execution_count": 16,
      "outputs": [
        {
          "output_type": "stream",
          "name": "stdout",
          "text": [
            "Woof!\n",
            "Meow!\n",
            "Woof!\n",
            "Meow!\n"
          ]
        }
      ]
    },
    {
      "cell_type": "markdown",
      "source": [
        "4. Class and Static Methods:\n",
        "\n",
        "\n",
        "1.   Create a class Temperature with methods:\n",
        "\n",
        "\n",
        "*   c_to_f(celsius) → Converts Celsius to Fahrenheit.\n",
        "\n",
        "*   f_to_c(fahrenheit) → Converts Fahrenheit to Celsius.\n",
        "\n",
        "\n",
        "\n",
        "\n",
        "2.   Implement them as @staticmethod.\n",
        "3.   Also, maintain a class-level attribute unit and use @classmethod to modify it.\n",
        "\n",
        "\n",
        "\n",
        "\n",
        "\n",
        "\n"
      ],
      "metadata": {
        "id": "JAym7ysCaCk1"
      }
    },
    {
      "cell_type": "code",
      "source": [
        "class Temperature:\n",
        "    @staticmethod\n",
        "    def c_to_f(celsius):\n",
        "        return (celsius * 9/5) + 32\n",
        "\n",
        "    @staticmethod\n",
        "    def f_to_c(fahrenheit):\n",
        "        return (fahrenheit - 32) * 5/9\n",
        "\n",
        "print(\"25°C in Fahrenheit:\", Temperature.c_to_f(25))\n",
        "print(\"77°F in Celsius:\", Temperature.f_to_c(77))\n"
      ],
      "metadata": {
        "colab": {
          "base_uri": "https://localhost:8080/"
        },
        "id": "nzcGt-dxZyRu",
        "outputId": "f021ca74-85a9-49c1-a0d8-3aa626ab9a93"
      },
      "execution_count": 17,
      "outputs": [
        {
          "output_type": "stream",
          "name": "stdout",
          "text": [
            "25°C in Fahrenheit: 77.0\n",
            "77°F in Celsius: 25.0\n"
          ]
        }
      ]
    },
    {
      "cell_type": "markdown",
      "source": [
        "5.   Inheritance + Polymorphism (Mini Project):\n",
        "Create a base class Shape with method area().\n",
        "\n",
        "\n",
        "*   Derive classes Rectangle, Circle, and Triangle.\n",
        "\n",
        "\n",
        "*   Each should implement area() method differently.\n",
        "\n",
        "*   Create a list of shapes and calculate area of each using polymorphism.\n",
        "\n",
        "\n",
        "\n",
        "\n"
      ],
      "metadata": {
        "id": "bf72z2XJa8_l"
      }
    },
    {
      "cell_type": "code",
      "source": [
        "import math\n",
        "\n",
        "# Base class\n",
        "class Shape:\n",
        "    def area(self):\n",
        "        raise NotImplementedError(\"Subclasses must implement area() method\")\n",
        "\n",
        "\n",
        "# Rectangle class\n",
        "class Rectangle(Shape):\n",
        "    def __init__(self, length, width):\n",
        "        self.length = length\n",
        "        self.width = width\n",
        "\n",
        "    def area(self):\n",
        "        return self.length * self.width\n",
        "\n",
        "\n",
        "# Circle class\n",
        "class Circle(Shape):\n",
        "    def __init__(self, radius):\n",
        "        self.radius = radius\n",
        "\n",
        "    def area(self):\n",
        "        return math.pi * (self.radius ** 2)\n",
        "\n",
        "\n",
        "# Triangle class\n",
        "class Triangle(Shape):\n",
        "    def __init__(self, base, height):\n",
        "        self.base = base\n",
        "        self.height = height\n",
        "\n",
        "    def area(self):\n",
        "        return 0.5 * self.base * self.height\n",
        "\n",
        "\n",
        "# Create list of shapes\n",
        "shapes = [\n",
        "    Rectangle(10, 5),\n",
        "    Circle(7),\n",
        "    Triangle(8, 6)\n",
        "]\n",
        "\n",
        "# Polymorphism in action\n",
        "for shape in shapes:\n",
        "    print(f\"{shape.__class__.__name__} Area:\", shape.area())"
      ],
      "metadata": {
        "colab": {
          "base_uri": "https://localhost:8080/"
        },
        "id": "4DmJCcCbbMxo",
        "outputId": "8478e783-2b9f-42e4-e428-e1b84e02a7de"
      },
      "execution_count": 18,
      "outputs": [
        {
          "output_type": "stream",
          "name": "stdout",
          "text": [
            "Rectangle Area: 50\n",
            "Circle Area: 153.93804002589985\n",
            "Triangle Area: 24.0\n"
          ]
        }
      ]
    },
    {
      "cell_type": "code",
      "source": [],
      "metadata": {
        "id": "p9tlcVQzblHz"
      },
      "execution_count": 18,
      "outputs": []
    }
  ]
}